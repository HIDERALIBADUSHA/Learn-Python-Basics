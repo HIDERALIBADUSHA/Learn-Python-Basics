{
 "cells": [
  {
   "cell_type": "code",
   "execution_count": 1,
   "metadata": {
    "colab": {
     "base_uri": "https://localhost:8080/"
    },
    "id": "cWgbEbsEegXi",
    "outputId": "b309e6af-8912-46d6-8eac-465beea80af6"
   },
   "outputs": [
    {
     "data": {
      "text/plain": [
       "28"
      ]
     },
     "execution_count": 1,
     "metadata": {},
     "output_type": "execute_result"
    }
   ],
   "source": [
    "s = \"This is a basic python class\"\n",
    "len(s)"
   ]
  },
  {
   "cell_type": "code",
   "execution_count": 2,
   "metadata": {
    "colab": {
     "base_uri": "https://localhost:8080/"
    },
    "id": "WkKe8OFjhOPH",
    "outputId": "450e84d9-880e-47b2-d512-bdbd49d46b72"
   },
   "outputs": [
    {
     "name": "stdout",
     "output_type": "stream",
     "text": [
      "28\n"
     ]
    }
   ],
   "source": [
    "#no.of letters in s ?\n",
    "count = 0\n",
    "for i in s :\n",
    "   count = count + 1\n",
    "\n",
    "print(count)"
   ]
  },
  {
   "cell_type": "code",
   "execution_count": 3,
   "metadata": {
    "colab": {
     "base_uri": "https://localhost:8080/"
    },
    "id": "okrrHVKMhyCW",
    "outputId": "3b6390dd-f55c-46a5-c72e-290fb7d779bd"
   },
   "outputs": [
    {
     "name": "stdout",
     "output_type": "stream",
     "text": [
      "28\n"
     ]
    }
   ],
   "source": [
    "count = 0\n",
    "for i in s :\n",
    "   count+=1\n",
    "print(count)"
   ]
  },
  {
   "cell_type": "code",
   "execution_count": 4,
   "metadata": {
    "colab": {
     "base_uri": "https://localhost:8080/",
     "height": 35
    },
    "id": "8zcbwkl7iFw5",
    "outputId": "2c51d255-006e-4929-e32b-b0fc58875c44"
   },
   "outputs": [
    {
     "data": {
      "text/plain": [
       "'ssalc nohtyp cisab a si sihT'"
      ]
     },
     "execution_count": 4,
     "metadata": {},
     "output_type": "execute_result"
    }
   ],
   "source": [
    "s[::-1]"
   ]
  },
  {
   "cell_type": "code",
   "execution_count": 5,
   "metadata": {
    "colab": {
     "base_uri": "https://localhost:8080/"
    },
    "id": "iH56X6HpiIrs",
    "outputId": "5f6d87e3-7bbc-4664-8147-745357d7b203"
   },
   "outputs": [
    {
     "name": "stdout",
     "output_type": "stream",
     "text": [
      "s\n",
      "s\n",
      "a\n",
      "l\n",
      "c\n",
      " \n",
      "n\n",
      "o\n",
      "h\n",
      "t\n",
      "y\n",
      "p\n",
      " \n",
      "c\n",
      "i\n",
      "s\n",
      "a\n",
      "b\n",
      " \n",
      "a\n",
      " \n",
      "s\n",
      "i\n",
      " \n",
      "s\n",
      "i\n",
      "h\n",
      "T\n"
     ]
    }
   ],
   "source": [
    "#reverse of s using for loop\n",
    "for i in range(len(s)-1,-1, -1) :\n",
    "     print(s[i])"
   ]
  },
  {
   "cell_type": "code",
   "execution_count": 6,
   "metadata": {
    "colab": {
     "base_uri": "https://localhost:8080/"
    },
    "id": "1lATvYmYjEDQ",
    "outputId": "10984ee0-8ad0-43b5-e3a0-aea5fe0c3214"
   },
   "outputs": [
    {
     "name": "stdout",
     "output_type": "stream",
     "text": [
      "ssalc nohtyp cisab a si sihT\n"
     ]
    }
   ],
   "source": [
    "#reverse of s using while loop\n",
    "s1 = \"\"\n",
    "length = len(s)-1\n",
    "while length >= 0 :\n",
    "     s1 = s1 + s[length]\n",
    "     length = length - 1\n",
    "print(s1)      "
   ]
  },
  {
   "cell_type": "code",
   "execution_count": 7,
   "metadata": {
    "colab": {
     "base_uri": "https://localhost:8080/",
     "height": 35
    },
    "id": "2RDSs85qlRRT",
    "outputId": "4e331eb7-14ee-4c92-c197-069cf2c8f766"
   },
   "outputs": [
    {
     "data": {
      "text/plain": [
       "'This is a basic python class'"
      ]
     },
     "execution_count": 7,
     "metadata": {},
     "output_type": "execute_result"
    }
   ],
   "source": [
    "s"
   ]
  },
  {
   "cell_type": "code",
   "execution_count": 8,
   "metadata": {
    "colab": {
     "base_uri": "https://localhost:8080/"
    },
    "id": "jpHkfRTIlwXk",
    "outputId": "46e71cdf-f000-49c6-de0e-298eaa0def5c"
   },
   "outputs": [
    {
     "name": "stdout",
     "output_type": "stream",
     "text": [
      "s\n",
      "s\n",
      "a\n",
      "l\n",
      "c\n",
      " \n",
      "n\n",
      "o\n",
      "h\n",
      "t\n",
      "y\n",
      "p\n",
      " \n",
      "c\n",
      "i\n",
      "s\n",
      "a\n",
      "b\n",
      " \n",
      "a\n",
      " \n",
      "s\n",
      "i\n",
      " \n",
      "s\n",
      "i\n",
      "h\n",
      "T\n"
     ]
    }
   ],
   "source": [
    "i = len(s) - 1 \n",
    "while i>=0 :\n",
    "     print(s[i])\n",
    "     i = i - 1 "
   ]
  },
  {
   "cell_type": "code",
   "execution_count": 9,
   "metadata": {
    "colab": {
     "base_uri": "https://localhost:8080/"
    },
    "id": "POruQBiMmosy",
    "outputId": "6674490b-0131-45d7-8f56-578729c97dc2"
   },
   "outputs": [
    {
     "name": "stdout",
     "output_type": "stream",
     "text": [
      "ssalc nohtyp cisab a si sihT"
     ]
    }
   ],
   "source": [
    "i = len(s) - 1 \n",
    "while i>=0 :\n",
    "     print(s[i],end = \"\")\n",
    "     i = i - 1 "
   ]
  },
  {
   "cell_type": "code",
   "execution_count": 10,
   "metadata": {
    "colab": {
     "base_uri": "https://localhost:8080/"
    },
    "id": "KoMlw4Ibm6n_",
    "outputId": "18f2da14-e642-46e2-d994-2762598c42e7",
    "scrolled": true
   },
   "outputs": [
    {
     "name": "stdout",
     "output_type": "stream",
     "text": [
      "i\n",
      "e\n",
      "a\n",
      "i\n"
     ]
    }
   ],
   "source": [
    "h = \"hiderali\"\n",
    "b = \"AaEeIiOoUu\"\n",
    "#which of the above charectors are vowels ?\n",
    "\n",
    "for i in h :\n",
    "   if i in b :\n",
    "     print(i)\n",
    "    \n"
   ]
  },
  {
   "cell_type": "code",
   "execution_count": 11,
   "metadata": {
    "colab": {
     "base_uri": "https://localhost:8080/"
    },
    "id": "2yEpjuTcoB5Z",
    "outputId": "dc48cafe-107e-40b0-8311-fb0926183891"
   },
   "outputs": [
    {
     "name": "stdout",
     "output_type": "stream",
     "text": [
      "iaei"
     ]
    }
   ],
   "source": [
    "h = \"hiderali\"\n",
    "b = \"AaEeIiOoUu\"\n",
    "#which of the above charectors are vowels ?\n",
    "\n",
    "i = len(h) -1 \n",
    "while i >=0 :\n",
    "     if h[i] in b :\n",
    "       print(h[i],end = \"\")  \n",
    "     i = i - 1      \n",
    "     "
   ]
  },
  {
   "cell_type": "code",
   "execution_count": 12,
   "metadata": {
    "id": "SaeBVZN7vpQY"
   },
   "outputs": [
    {
     "name": "stdout",
     "output_type": "stream",
     "text": [
      "iaei"
     ]
    }
   ],
   "source": [
    "h = \"hiderali\"\n",
    "b = \"AaEeIiOoUu\"\n",
    "i = len(h) - 1\n",
    "while i >=0 :\n",
    "     if h[i] in b :\n",
    "        print(h[i],end = \"\")  \n",
    "     i = i - 1  \n",
    "        "
   ]
  },
  {
   "cell_type": "code",
   "execution_count": 13,
   "metadata": {
    "colab": {
     "base_uri": "https://localhost:8080/"
    },
    "id": "ymNjNlS9tiPQ",
    "outputId": "8b5ea9ed-2fbb-4e41-f7db-15b7ab4f03a4"
   },
   "outputs": [
    {
     "data": {
      "text/plain": [
       "True"
      ]
     },
     "execution_count": 13,
     "metadata": {},
     "output_type": "execute_result"
    }
   ],
   "source": [
    "\"h\" in h"
   ]
  },
  {
   "cell_type": "code",
   "execution_count": 14,
   "metadata": {
    "id": "s5NUjvTBuW-3",
    "scrolled": false
   },
   "outputs": [],
   "source": [
    "#the below mentioned are palindrome or not \n",
    "##\"malayalam\"\n",
    "##\"eye\"\n",
    "##\"tnent\""
   ]
  },
  {
   "cell_type": "code",
   "execution_count": 20,
   "metadata": {},
   "outputs": [
    {
     "name": "stdout",
     "output_type": "stream",
     "text": [
      "Enter a word: eye\n",
      "The word eye is Palindrome.\n"
     ]
    }
   ],
   "source": [
    "#Pallindrome using IF - Else\n",
    "s = str(input(\"Enter a word: \"))\n",
    "if s == s[::-1] :\n",
    "    print(f\"The word {s} is Palindrome.\")\n",
    "else :\n",
    "    print(\"Not a Palindrom\")"
   ]
  },
  {
   "cell_type": "code",
   "execution_count": 21,
   "metadata": {},
   "outputs": [
    {
     "name": "stdout",
     "output_type": "stream",
     "text": [
      "Enter a word: malayalam\n",
      "Palindrome\n"
     ]
    }
   ],
   "source": [
    "#Palindrome using for loop\n",
    "s = str(input(\"Enter a word: \"))\n",
    "for i in range(len(s)) :\n",
    "    if s[i] != s [len(s)-1-i] :\n",
    "        print(f\"The word {s} is not Palindrome.\")\n",
    "        break\n",
    "else:\n",
    "            print(\"Palindrome\")\n",
    "        "
   ]
  },
  {
   "cell_type": "code",
   "execution_count": 22,
   "metadata": {
    "scrolled": true
   },
   "outputs": [
    {
     "name": "stdout",
     "output_type": "stream",
     "text": [
      "eye is a palindrome\n"
     ]
    }
   ],
   "source": [
    "f = \"eye\"\n",
    "g = \"\"\n",
    "for i in f :\n",
    "    g = g + i \n",
    "if g != f[::-1] :\n",
    "        print(f,\" not a palindrome\")\n",
    "else :\n",
    "    print (f,\"is a palindrome\")"
   ]
  },
  {
   "cell_type": "code",
   "execution_count": 23,
   "metadata": {},
   "outputs": [
    {
     "name": "stdout",
     "output_type": "stream",
     "text": [
      "cpc\n",
      "The word cpc is Palindrome.\n"
     ]
    }
   ],
   "source": [
    "s = input()\n",
    "if s == s[::-1] :\n",
    "    print(f\"The word {s} is Palindrome.\")\n",
    "else :\n",
    "    print(\"Not a Palindrom\")"
   ]
  },
  {
   "cell_type": "code",
   "execution_count": 24,
   "metadata": {},
   "outputs": [
    {
     "name": "stdout",
     "output_type": "stream",
     "text": [
      "malayalam - a palindrom\n"
     ]
    }
   ],
   "source": [
    "word = \"malayalam\"\n",
    "for i in range(len(word)) :\n",
    "    if word[i] != word[len(word)-1-i] :\n",
    "        print(word,\"- is not palindrom\") \n",
    "        break \n",
    "else :\n",
    "        print(word,\"- a palindrom\")"
   ]
  },
  {
   "cell_type": "code",
   "execution_count": 25,
   "metadata": {},
   "outputs": [
    {
     "name": "stdout",
     "output_type": "stream",
     "text": [
      "eyeeee is not a palindrome\n"
     ]
    }
   ],
   "source": [
    "#Palindrome using while loop\n",
    "\n",
    "s = \"eyeeee\"\n",
    "p = \"\"\n",
    "n = len(s)-1 \n",
    "while n >=0 :\n",
    "    p = p + s[n]\n",
    "    n = n-1\n",
    "if p == s :\n",
    "        print(f\"{s} is palindrome.\")\n",
    "else :\n",
    "    print(f\"{s} is not a palindrome\")\n",
    "    "
   ]
  },
  {
   "cell_type": "code",
   "execution_count": 26,
   "metadata": {},
   "outputs": [],
   "source": [
    "d = { \"india\" : \"IN\",\n",
    "    \"china\" : \"CH\",\n",
    "    \"canada\" : \"CN\",\n",
    "    \"united states\" : \"US\"}"
   ]
  },
  {
   "cell_type": "code",
   "execution_count": 27,
   "metadata": {},
   "outputs": [
    {
     "data": {
      "text/plain": [
       "True"
      ]
     },
     "execution_count": 27,
     "metadata": {},
     "output_type": "execute_result"
    }
   ],
   "source": [
    "\"india\" in d\n"
   ]
  },
  {
   "cell_type": "code",
   "execution_count": 28,
   "metadata": {},
   "outputs": [
    {
     "data": {
      "text/plain": [
       "dict_keys(['india', 'china', 'canada', 'united states'])"
      ]
     },
     "execution_count": 28,
     "metadata": {},
     "output_type": "execute_result"
    }
   ],
   "source": [
    "d.keys()\n"
   ]
  },
  {
   "cell_type": "code",
   "execution_count": 29,
   "metadata": {},
   "outputs": [
    {
     "data": {
      "text/plain": [
       "dict_values(['IN', 'CH', 'CN', 'US'])"
      ]
     },
     "execution_count": 29,
     "metadata": {},
     "output_type": "execute_result"
    }
   ],
   "source": [
    "d.values()"
   ]
  },
  {
   "cell_type": "code",
   "execution_count": 30,
   "metadata": {},
   "outputs": [
    {
     "data": {
      "text/plain": [
       "dict_items([('india', 'IN'), ('china', 'CH'), ('canada', 'CN'), ('united states', 'US')])"
      ]
     },
     "execution_count": 30,
     "metadata": {},
     "output_type": "execute_result"
    }
   ],
   "source": [
    "d.items()"
   ]
  },
  {
   "cell_type": "code",
   "execution_count": 31,
   "metadata": {},
   "outputs": [
    {
     "name": "stdout",
     "output_type": "stream",
     "text": [
      "['i', 'n', 'd', 'i', 'a']\n",
      "['i', 'n', 'd', 'i', 'a', 'c', 'h', 'i', 'n', 'a']\n",
      "united states\n"
     ]
    }
   ],
   "source": [
    "l1 = \"\"\n",
    "l2 = \"\"\n",
    "for i in d :\n",
    "    if len(i) <= 5 :\n",
    "        l1 = list(l1) + list(i)\n",
    "        print(l1)\n",
    "else:  \n",
    "    l2 = l2 + i\n",
    "    print(i)"
   ]
  },
  {
   "cell_type": "code",
   "execution_count": 32,
   "metadata": {},
   "outputs": [],
   "source": [
    "l = d.keys()\n",
    "m = d.values()"
   ]
  },
  {
   "cell_type": "code",
   "execution_count": null,
   "metadata": {},
   "outputs": [],
   "source": [
    "l\n"
   ]
  },
  {
   "cell_type": "code",
   "execution_count": null,
   "metadata": {},
   "outputs": [],
   "source": [
    "m"
   ]
  },
  {
   "cell_type": "code",
   "execution_count": 33,
   "metadata": {},
   "outputs": [
    {
     "name": "stdout",
     "output_type": "stream",
     "text": [
      "india\n",
      "china\n"
     ]
    }
   ],
   "source": [
    "\n",
    "for i in l :\n",
    "    if len(i) <= 5 :\n",
    "        print(i)\n"
   ]
  },
  {
   "cell_type": "code",
   "execution_count": 34,
   "metadata": {},
   "outputs": [
    {
     "name": "stdout",
     "output_type": "stream",
     "text": [
      "canada\n",
      "united states\n"
     ]
    }
   ],
   "source": [
    "for i in l :\n",
    "    if len(i) > 5 :\n",
    "        print(i)"
   ]
  },
  {
   "cell_type": "code",
   "execution_count": 35,
   "metadata": {},
   "outputs": [],
   "source": [
    "l_greater = []\n",
    "l_smaller = []\n",
    "for i in d :\n",
    "    if len(i) <= 5:\n",
    "        l_smaller.append(i)\n",
    "    else :\n",
    "        l_greater.append(i)\n"
   ]
  },
  {
   "cell_type": "code",
   "execution_count": 36,
   "metadata": {},
   "outputs": [
    {
     "data": {
      "text/plain": [
       "['india', 'china']"
      ]
     },
     "execution_count": 36,
     "metadata": {},
     "output_type": "execute_result"
    }
   ],
   "source": [
    "l_smaller"
   ]
  },
  {
   "cell_type": "code",
   "execution_count": 37,
   "metadata": {},
   "outputs": [
    {
     "data": {
      "text/plain": [
       "['canada', 'united states']"
      ]
     },
     "execution_count": 37,
     "metadata": {},
     "output_type": "execute_result"
    }
   ],
   "source": [
    "l_greater"
   ]
  },
  {
   "cell_type": "code",
   "execution_count": 45,
   "metadata": {},
   "outputs": [],
   "source": [
    "d_1 = {\"ineuron\" : {\n",
    "                    \"a\":14,\n",
    "                    \"b\" : 10 ,\n",
    "                    \"c\" : 4\n",
    "                    } , \n",
    "     \"course\" :  {\n",
    "        \"d\" : 45, \n",
    "        \"e\" : 34 , \n",
    "        \"f\" : 1\n",
    "       }\n",
    "              \n",
    "}"
   ]
  },
  {
   "cell_type": "code",
   "execution_count": 46,
   "metadata": {},
   "outputs": [
    {
     "data": {
      "text/plain": [
       "dict_values([{'a': 14, 'b': 10, 'c': 4}, {'d': 45, 'e': 34, 'f': 1}])"
      ]
     },
     "execution_count": 46,
     "metadata": {},
     "output_type": "execute_result"
    }
   ],
   "source": [
    "\n",
    "d_1.values()"
   ]
  },
  {
   "cell_type": "code",
   "execution_count": 47,
   "metadata": {},
   "outputs": [
    {
     "data": {
      "text/plain": [
       "dict_keys(['ineuron', 'course'])"
      ]
     },
     "execution_count": 47,
     "metadata": {},
     "output_type": "execute_result"
    }
   ],
   "source": [
    "d_1.keys()"
   ]
  },
  {
   "cell_type": "code",
   "execution_count": 48,
   "metadata": {},
   "outputs": [
    {
     "data": {
      "text/plain": [
       "dict_items([('ineuron', {'a': 14, 'b': 10, 'c': 4}), ('course', {'d': 45, 'e': 34, 'f': 1})])"
      ]
     },
     "execution_count": 48,
     "metadata": {},
     "output_type": "execute_result"
    }
   ],
   "source": [
    "d_1.items()"
   ]
  },
  {
   "cell_type": "code",
   "execution_count": 49,
   "metadata": {},
   "outputs": [
    {
     "name": "stdout",
     "output_type": "stream",
     "text": [
      "{'a': 14, 'b': 10, 'c': 4}\n",
      "{'d': 45, 'e': 34, 'f': 1}\n"
     ]
    }
   ],
   "source": [
    "for i in d_1 :\n",
    "    print(d_1[i])"
   ]
  },
  {
   "cell_type": "code",
   "execution_count": 50,
   "metadata": {},
   "outputs": [
    {
     "name": "stdout",
     "output_type": "stream",
     "text": [
      "{'a': 14, 'b': 10, 'c': 4}\n",
      "{'d': 45, 'e': 34, 'f': 1}\n"
     ]
    }
   ],
   "source": [
    "for i in d_1.values() :\n",
    "    print(i)"
   ]
  },
  {
   "cell_type": "code",
   "execution_count": 51,
   "metadata": {},
   "outputs": [
    {
     "name": "stdout",
     "output_type": "stream",
     "text": [
      "ineuron {'a': 14, 'b': 10, 'c': 4}\n",
      "course {'d': 45, 'e': 34, 'f': 1}\n"
     ]
    }
   ],
   "source": [
    "for i , j in d_1.items():\n",
    "    print(i,j)"
   ]
  },
  {
   "cell_type": "code",
   "execution_count": null,
   "metadata": {},
   "outputs": [],
   "source": [
    "d1"
   ]
  },
  {
   "cell_type": "code",
   "execution_count": 52,
   "metadata": {},
   "outputs": [
    {
     "name": "stdout",
     "output_type": "stream",
     "text": [
      "14\n",
      "45\n"
     ]
    }
   ],
   "source": [
    "#finding maximum value of each dict\n",
    "d1 = {\"ineuron\" : {\n",
    "                    \"a\":14,\n",
    "                    \"b\" : 10 ,\n",
    "                    \"c\" : 4\n",
    "                    } , \n",
    "     \"course\" :  {\n",
    "        \"d\" : 45, \n",
    "        \"e\" : 34 , \n",
    "        \"f\" : 1\n",
    "       }\n",
    "              \n",
    "}\n",
    "#list with append in for loop \n",
    "l = []\n",
    "for i in d1.values():\n",
    "    for j in i.values():\n",
    "        l.append(j)\n",
    "    print(max(l))\n",
    "        "
   ]
  },
  {
   "cell_type": "code",
   "execution_count": 53,
   "metadata": {},
   "outputs": [
    {
     "name": "stdout",
     "output_type": "stream",
     "text": [
      "14\n",
      "45\n"
     ]
    }
   ],
   "source": [
    "#variable method in for loop\n",
    "for i in d1.values():\n",
    "    mx = 0 \n",
    "    for j in i.values():\n",
    "        if mx < j :\n",
    "            mx = j\n",
    "    print(mx)"
   ]
  },
  {
   "cell_type": "code",
   "execution_count": 54,
   "metadata": {},
   "outputs": [
    {
     "name": "stdout",
     "output_type": "stream",
     "text": [
      "14\n",
      "45\n"
     ]
    }
   ],
   "source": [
    "#simple method\n",
    "\n",
    "for i in d1.values():\n",
    "    print(max(i.values()))"
   ]
  },
  {
   "cell_type": "code",
   "execution_count": 55,
   "metadata": {},
   "outputs": [
    {
     "name": "stdout",
     "output_type": "stream",
     "text": [
      "14\n",
      "45\n"
     ]
    }
   ],
   "source": [
    "#alternate method\n",
    "\n",
    "for i in d1.keys():\n",
    "    print(max(d1[i].values()))"
   ]
  },
  {
   "cell_type": "code",
   "execution_count": 56,
   "metadata": {},
   "outputs": [
    {
     "name": "stdout",
     "output_type": "stream",
     "text": [
      "14\n",
      "10\n",
      "4\n",
      "45\n",
      "34\n",
      "1\n"
     ]
    }
   ],
   "source": [
    "for i in d1.values():\n",
    "    for j in i.values():\n",
    "        print(j)\n",
    "        "
   ]
  },
  {
   "cell_type": "code",
   "execution_count": 57,
   "metadata": {},
   "outputs": [],
   "source": [
    "d = {\"ineuron\" : {\"a\":14,\"b\" : 10 ,\"c\" : 4} ,\"course\" :  {\"d\" : 45, \"e\" : 34 , \"f\" : 1}, \"g\": 34, \"h\" : [45,6, 7,8,9],\n",
    "      \"i\" : (45,34,2), \"k\" : \"hider\"}"
   ]
  },
  {
   "cell_type": "code",
   "execution_count": 58,
   "metadata": {},
   "outputs": [
    {
     "name": "stdout",
     "output_type": "stream",
     "text": [
      "{'a': 14, 'b': 10, 'c': 4}\n",
      "{'d': 45, 'e': 34, 'f': 1}\n",
      "34\n",
      "[45, 6, 7, 8, 9]\n",
      "(45, 34, 2)\n",
      "hider\n"
     ]
    }
   ],
   "source": [
    "#find the max value of integer ?\n",
    "\n",
    "for x in d.values():\n",
    "    print(x)"
   ]
  },
  {
   "cell_type": "code",
   "execution_count": 17,
   "metadata": {},
   "outputs": [
    {
     "name": "stdout",
     "output_type": "stream",
     "text": [
      "89\n"
     ]
    }
   ],
   "source": [
    "#find the max value of integer from nested dict of various data types ?\n",
    "d = {\"ineuron\" : {\"a\":14,\"b\" : 10 ,\"c\" : 4} ,\"course\" :  {\"d\" : 45, \"e\" : 34 , \"f\" : 1}, \"g\": 65, \"h\" : [45,6, 89,8,9],\n",
    "      \"i\" : (45,34,2), \"k\" : \"hider\", \"ss\" : 50 + 3j, \"ff\" : True}\n",
    "a1 = []\n",
    "for x in d.values():\n",
    "    if type(x) == dict :\n",
    "        for y in x.values() :\n",
    "            a1.append(y)\n",
    "    elif type(x) == list :\n",
    "            a1.append(max(x))\n",
    "    elif type(x) == tuple :\n",
    "            a1.append(max(x))\n",
    "    elif type(x) == int :\n",
    "            a1.append(x)\n",
    "    elif type(x) == set :\n",
    "            a1.append(max(x))\n",
    "    elif type(x) == float :\n",
    "            a1.append(x)\n",
    "    elif type(x) == str or type(x) == bool or type(x) == complex :\n",
    "        pass\n",
    "print(max(a1))"
   ]
  },
  {
   "cell_type": "code",
   "execution_count": 18,
   "metadata": {},
   "outputs": [
    {
     "name": "stdout",
     "output_type": "stream",
     "text": [
      "{'a': 14, 'b': 10, 'c': 4}\n",
      "{'d': 45, 'e': 34, 'f': 1}\n",
      "65\n",
      "[45, 6, 89, 8, 9]\n",
      "(45, 34, 2)\n",
      "hider\n",
      "(50+3j)\n",
      "True\n"
     ]
    }
   ],
   "source": [
    "for i in d:\n",
    "    print(d[i])"
   ]
  },
  {
   "cell_type": "code",
   "execution_count": 59,
   "metadata": {},
   "outputs": [
    {
     "name": "stdout",
     "output_type": "stream",
     "text": [
      "hider\n"
     ]
    }
   ],
   "source": [
    "for i in d:\n",
    "    if type(d[i]) == str :\n",
    "        print(d[i])"
   ]
  },
  {
   "cell_type": "code",
   "execution_count": 67,
   "metadata": {},
   "outputs": [
    {
     "name": "stdout",
     "output_type": "stream",
     "text": [
      "{'a': 14, 'b': 10, 'c': 4}\n",
      "{'d': 45, 'e': 34, 'f': 1}\n",
      "34\n",
      "[45, 6, 7, 8, 9]\n",
      "(45, 34, 2)\n"
     ]
    }
   ],
   "source": [
    "for i in d:\n",
    "    if type(d[i]) != str or type(d[i]) ==  bool or type(d[i]) == complex :\n",
    "        print(d[i])"
   ]
  },
  {
   "cell_type": "code",
   "execution_count": null,
   "metadata": {},
   "outputs": [],
   "source": []
  }
 ],
 "metadata": {
  "colab": {
   "provenance": []
  },
  "kernelspec": {
   "display_name": "Python 3 (ipykernel)",
   "language": "python",
   "name": "python3"
  },
  "language_info": {
   "codemirror_mode": {
    "name": "ipython",
    "version": 3
   },
   "file_extension": ".py",
   "mimetype": "text/x-python",
   "name": "python",
   "nbconvert_exporter": "python",
   "pygments_lexer": "ipython3",
   "version": "3.9.13"
  }
 },
 "nbformat": 4,
 "nbformat_minor": 1
}
