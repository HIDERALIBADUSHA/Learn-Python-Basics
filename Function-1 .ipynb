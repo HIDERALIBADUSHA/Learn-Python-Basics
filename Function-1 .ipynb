{
 "cells": [
  {
   "cell_type": "code",
   "execution_count": 2,
   "id": "98d95ab4",
   "metadata": {},
   "outputs": [],
   "source": [
    "def test():\n",
    "    pass"
   ]
  },
  {
   "cell_type": "code",
   "execution_count": null,
   "id": "95464958",
   "metadata": {},
   "outputs": [],
   "source": [
    "#define function"
   ]
  },
  {
   "cell_type": "code",
   "execution_count": 5,
   "id": "620c7513",
   "metadata": {},
   "outputs": [],
   "source": [
    "def test1():\n",
    "    print(\"this is my first fun\")"
   ]
  },
  {
   "cell_type": "code",
   "execution_count": 7,
   "id": "6ed7d84d",
   "metadata": {},
   "outputs": [
    {
     "name": "stdout",
     "output_type": "stream",
     "text": [
      "this is my first fun\n"
     ]
    }
   ],
   "source": [
    "test1()"
   ]
  },
  {
   "cell_type": "code",
   "execution_count": 8,
   "id": "10ce111b",
   "metadata": {},
   "outputs": [
    {
     "name": "stdout",
     "output_type": "stream",
     "text": [
      "this is my first fun\n"
     ]
    }
   ],
   "source": [
    "a = test1()"
   ]
  },
  {
   "cell_type": "code",
   "execution_count": 10,
   "id": "b9377c61",
   "metadata": {},
   "outputs": [],
   "source": [
    "a"
   ]
  },
  {
   "cell_type": "code",
   "execution_count": 11,
   "id": "b84aabc6",
   "metadata": {},
   "outputs": [
    {
     "ename": "TypeError",
     "evalue": "unsupported operand type(s) for +: 'NoneType' and 'str'",
     "output_type": "error",
     "traceback": [
      "\u001b[1;31m---------------------------------------------------------------------------\u001b[0m",
      "\u001b[1;31mTypeError\u001b[0m                                 Traceback (most recent call last)",
      "\u001b[1;32m~\\AppData\\Local\\Temp\\ipykernel_7676\\4169827265.py\u001b[0m in \u001b[0;36m<module>\u001b[1;34m\u001b[0m\n\u001b[1;32m----> 1\u001b[1;33m \u001b[0ma\u001b[0m \u001b[1;33m+\u001b[0m \u001b[1;34m\"hider\"\u001b[0m\u001b[1;33m\u001b[0m\u001b[1;33m\u001b[0m\u001b[0m\n\u001b[0m",
      "\u001b[1;31mTypeError\u001b[0m: unsupported operand type(s) for +: 'NoneType' and 'str'"
     ]
    }
   ],
   "source": [
    "a + \"hider\""
   ]
  },
  {
   "cell_type": "code",
   "execution_count": 12,
   "id": "705dc6df",
   "metadata": {},
   "outputs": [
    {
     "data": {
      "text/plain": [
       "'hdierali'"
      ]
     },
     "execution_count": 12,
     "metadata": {},
     "output_type": "execute_result"
    }
   ],
   "source": [
    "\"hdier\" + \"ali\""
   ]
  },
  {
   "cell_type": "code",
   "execution_count": 13,
   "id": "d04e8c3b",
   "metadata": {},
   "outputs": [
    {
     "name": "stdout",
     "output_type": "stream",
     "text": [
      "this is my first fun\n"
     ]
    },
    {
     "data": {
      "text/plain": [
       "NoneType"
      ]
     },
     "execution_count": 13,
     "metadata": {},
     "output_type": "execute_result"
    }
   ],
   "source": [
    "type(test1())"
   ]
  },
  {
   "cell_type": "code",
   "execution_count": 14,
   "id": "065feabb",
   "metadata": {},
   "outputs": [
    {
     "data": {
      "text/plain": [
       "'None'"
      ]
     },
     "execution_count": 14,
     "metadata": {},
     "output_type": "execute_result"
    }
   ],
   "source": [
    "str(a)"
   ]
  },
  {
   "cell_type": "code",
   "execution_count": 15,
   "id": "c2e86487",
   "metadata": {},
   "outputs": [],
   "source": [
    "def test2():\n",
    "    return \"this is my fist func\""
   ]
  },
  {
   "cell_type": "code",
   "execution_count": 16,
   "id": "e82b2b91",
   "metadata": {},
   "outputs": [
    {
     "data": {
      "text/plain": [
       "str"
      ]
     },
     "execution_count": 16,
     "metadata": {},
     "output_type": "execute_result"
    }
   ],
   "source": [
    "type(test2())"
   ]
  },
  {
   "cell_type": "code",
   "execution_count": 17,
   "id": "7d04fcfd",
   "metadata": {},
   "outputs": [
    {
     "data": {
      "text/plain": [
       "'this is my fist funchider'"
      ]
     },
     "execution_count": 17,
     "metadata": {},
     "output_type": "execute_result"
    }
   ],
   "source": [
    "test2()+ \"hider\""
   ]
  },
  {
   "cell_type": "code",
   "execution_count": 18,
   "id": "415da080",
   "metadata": {},
   "outputs": [],
   "source": [
    "def test3():\n",
    "    return 53637"
   ]
  },
  {
   "cell_type": "code",
   "execution_count": 19,
   "id": "0a46c906",
   "metadata": {},
   "outputs": [
    {
     "data": {
      "text/plain": [
       "int"
      ]
     },
     "execution_count": 19,
     "metadata": {},
     "output_type": "execute_result"
    }
   ],
   "source": [
    "type(test3())"
   ]
  },
  {
   "cell_type": "code",
   "execution_count": 20,
   "id": "e12c6a8b",
   "metadata": {},
   "outputs": [],
   "source": [
    "b = test3()"
   ]
  },
  {
   "cell_type": "code",
   "execution_count": 21,
   "id": "5606ad8d",
   "metadata": {},
   "outputs": [
    {
     "data": {
      "text/plain": [
       "53760"
      ]
     },
     "execution_count": 21,
     "metadata": {},
     "output_type": "execute_result"
    }
   ],
   "source": [
    "b + 123"
   ]
  },
  {
   "cell_type": "code",
   "execution_count": 22,
   "id": "2b95a805",
   "metadata": {},
   "outputs": [],
   "source": [
    "#return helps to carry value in function "
   ]
  },
  {
   "cell_type": "code",
   "execution_count": 24,
   "id": "9bec6f13",
   "metadata": {},
   "outputs": [],
   "source": [
    "def test4():\n",
    "    return 4,3,\"hider\", [32,344,\"abc\"]"
   ]
  },
  {
   "cell_type": "code",
   "execution_count": 25,
   "id": "a3818c69",
   "metadata": {},
   "outputs": [
    {
     "data": {
      "text/plain": [
       "(4, 3, 'hider', [32, 344, 'abc'])"
      ]
     },
     "execution_count": 25,
     "metadata": {},
     "output_type": "execute_result"
    }
   ],
   "source": [
    "test4()"
   ]
  },
  {
   "cell_type": "code",
   "execution_count": 26,
   "id": "acc6daf7",
   "metadata": {},
   "outputs": [
    {
     "data": {
      "text/plain": [
       "tuple"
      ]
     },
     "execution_count": 26,
     "metadata": {},
     "output_type": "execute_result"
    }
   ],
   "source": [
    "type(test4())"
   ]
  },
  {
   "cell_type": "code",
   "execution_count": 27,
   "id": "829a60d4",
   "metadata": {},
   "outputs": [],
   "source": [
    "#tuple is immutable"
   ]
  },
  {
   "cell_type": "code",
   "execution_count": 30,
   "id": "d4c1b4c0",
   "metadata": {},
   "outputs": [],
   "source": [
    "c = test4()"
   ]
  },
  {
   "cell_type": "code",
   "execution_count": 31,
   "id": "8936a16c",
   "metadata": {},
   "outputs": [
    {
     "data": {
      "text/plain": [
       "(4, 3, 'hider', [32, 344, 'abc'])"
      ]
     },
     "execution_count": 31,
     "metadata": {},
     "output_type": "execute_result"
    }
   ],
   "source": [
    "c "
   ]
  },
  {
   "cell_type": "code",
   "execution_count": 32,
   "id": "f35910db",
   "metadata": {},
   "outputs": [
    {
     "data": {
      "text/plain": [
       "4"
      ]
     },
     "execution_count": 32,
     "metadata": {},
     "output_type": "execute_result"
    }
   ],
   "source": [
    "c[0]"
   ]
  },
  {
   "cell_type": "code",
   "execution_count": 33,
   "id": "4276f5a3",
   "metadata": {},
   "outputs": [
    {
     "data": {
      "text/plain": [
       "[32, 344, 'abc']"
      ]
     },
     "execution_count": 33,
     "metadata": {},
     "output_type": "execute_result"
    }
   ],
   "source": [
    "c[-1]"
   ]
  },
  {
   "cell_type": "code",
   "execution_count": 34,
   "id": "dad9fb67",
   "metadata": {},
   "outputs": [
    {
     "data": {
      "text/plain": [
       "'abc'"
      ]
     },
     "execution_count": 34,
     "metadata": {},
     "output_type": "execute_result"
    }
   ],
   "source": [
    "c[-1][-1]"
   ]
  },
  {
   "cell_type": "code",
   "execution_count": 35,
   "id": "3d87f91b",
   "metadata": {},
   "outputs": [
    {
     "data": {
      "text/plain": [
       "(4, 3, 'hider', [32, 344, 'abc'])"
      ]
     },
     "execution_count": 35,
     "metadata": {},
     "output_type": "execute_result"
    }
   ],
   "source": [
    "test4()"
   ]
  },
  {
   "cell_type": "code",
   "execution_count": 36,
   "id": "8d361ee7",
   "metadata": {},
   "outputs": [],
   "source": [
    "a = 1 \n",
    "b =566\n",
    "c = \"hider\"\n",
    "d = [613,782,8905]"
   ]
  },
  {
   "cell_type": "code",
   "execution_count": 37,
   "id": "bd758ed0",
   "metadata": {},
   "outputs": [],
   "source": [
    "a,b,c,d = 1,566,\"hider\", [613,782,8905]"
   ]
  },
  {
   "cell_type": "code",
   "execution_count": 38,
   "id": "98813465",
   "metadata": {},
   "outputs": [
    {
     "data": {
      "text/plain": [
       "(4, 3, 'hider', [32, 344, 'abc'])"
      ]
     },
     "execution_count": 38,
     "metadata": {},
     "output_type": "execute_result"
    }
   ],
   "source": [
    "test4()"
   ]
  },
  {
   "cell_type": "code",
   "execution_count": 40,
   "id": "c6a27747",
   "metadata": {},
   "outputs": [
    {
     "data": {
      "text/plain": [
       "4"
      ]
     },
     "execution_count": 40,
     "metadata": {},
     "output_type": "execute_result"
    }
   ],
   "source": [
    "len(test4())"
   ]
  },
  {
   "cell_type": "code",
   "execution_count": 41,
   "id": "b40fbe1e",
   "metadata": {},
   "outputs": [],
   "source": [
    "x,y,z,v = test4()"
   ]
  },
  {
   "cell_type": "code",
   "execution_count": 42,
   "id": "787278bd",
   "metadata": {},
   "outputs": [
    {
     "data": {
      "text/plain": [
       "4"
      ]
     },
     "execution_count": 42,
     "metadata": {},
     "output_type": "execute_result"
    }
   ],
   "source": [
    "x"
   ]
  },
  {
   "cell_type": "code",
   "execution_count": 43,
   "id": "a310798e",
   "metadata": {},
   "outputs": [
    {
     "data": {
      "text/plain": [
       "3"
      ]
     },
     "execution_count": 43,
     "metadata": {},
     "output_type": "execute_result"
    }
   ],
   "source": [
    "y"
   ]
  },
  {
   "cell_type": "code",
   "execution_count": 44,
   "id": "26e16765",
   "metadata": {},
   "outputs": [
    {
     "data": {
      "text/plain": [
       "'hider'"
      ]
     },
     "execution_count": 44,
     "metadata": {},
     "output_type": "execute_result"
    }
   ],
   "source": [
    "z"
   ]
  },
  {
   "cell_type": "code",
   "execution_count": 45,
   "id": "71064db9",
   "metadata": {},
   "outputs": [
    {
     "data": {
      "text/plain": [
       "[32, 344, 'abc']"
      ]
     },
     "execution_count": 45,
     "metadata": {},
     "output_type": "execute_result"
    }
   ],
   "source": [
    "v"
   ]
  },
  {
   "cell_type": "code",
   "execution_count": 46,
   "id": "5f5a3b28",
   "metadata": {},
   "outputs": [
    {
     "ename": "ValueError",
     "evalue": "not enough values to unpack (expected 5, got 4)",
     "output_type": "error",
     "traceback": [
      "\u001b[1;31m---------------------------------------------------------------------------\u001b[0m",
      "\u001b[1;31mValueError\u001b[0m                                Traceback (most recent call last)",
      "\u001b[1;32m~\\AppData\\Local\\Temp\\ipykernel_7676\\2436830520.py\u001b[0m in \u001b[0;36m<module>\u001b[1;34m\u001b[0m\n\u001b[1;32m----> 1\u001b[1;33m \u001b[0mg\u001b[0m\u001b[1;33m,\u001b[0m\u001b[0mh\u001b[0m\u001b[1;33m,\u001b[0m\u001b[0mj\u001b[0m\u001b[1;33m,\u001b[0m\u001b[0mk\u001b[0m\u001b[1;33m,\u001b[0m\u001b[0ml\u001b[0m \u001b[1;33m=\u001b[0m \u001b[0mtest4\u001b[0m\u001b[1;33m(\u001b[0m\u001b[1;33m)\u001b[0m\u001b[1;33m\u001b[0m\u001b[1;33m\u001b[0m\u001b[0m\n\u001b[0m",
      "\u001b[1;31mValueError\u001b[0m: not enough values to unpack (expected 5, got 4)"
     ]
    }
   ],
   "source": [
    "g,h,j,k,l = test4()"
   ]
  },
  {
   "cell_type": "code",
   "execution_count": 48,
   "id": "2fcda53e",
   "metadata": {},
   "outputs": [],
   "source": [
    "def test5():\n",
    "    a = 6*7 / 7\n",
    "    return a"
   ]
  },
  {
   "cell_type": "code",
   "execution_count": 51,
   "id": "81e0d7dc",
   "metadata": {},
   "outputs": [
    {
     "data": {
      "text/plain": [
       "6.0"
      ]
     },
     "execution_count": 51,
     "metadata": {},
     "output_type": "execute_result"
    }
   ],
   "source": [
    "test5()"
   ]
  },
  {
   "cell_type": "code",
   "execution_count": 54,
   "id": "98562db1",
   "metadata": {},
   "outputs": [
    {
     "data": {
      "text/plain": [
       "float"
      ]
     },
     "execution_count": 54,
     "metadata": {},
     "output_type": "execute_result"
    }
   ],
   "source": [
    "type(test5())"
   ]
  },
  {
   "cell_type": "code",
   "execution_count": 1,
   "id": "e333767f",
   "metadata": {},
   "outputs": [
    {
     "data": {
      "text/plain": [
       "8"
      ]
     },
     "execution_count": 1,
     "metadata": {},
     "output_type": "execute_result"
    }
   ],
   "source": [
    "len(\"hiderali\")"
   ]
  },
  {
   "cell_type": "code",
   "execution_count": 22,
   "id": "c2f73c59",
   "metadata": {},
   "outputs": [],
   "source": [
    "m = [3,4,5,66,7, \"ali\", [4353,463,567]]"
   ]
  },
  {
   "cell_type": "code",
   "execution_count": 15,
   "id": "9d2a1f2f",
   "metadata": {},
   "outputs": [],
   "source": [
    "#find integers from the list ?\n",
    "def test6(p):\n",
    "    s = []\n",
    "    if type(p) == list:\n",
    "        for i in p:\n",
    "            if type(i) == int:\n",
    "                s.append(i)\n",
    "    return s"
   ]
  },
  {
   "cell_type": "code",
   "execution_count": 33,
   "id": "d822e8e4",
   "metadata": {},
   "outputs": [
    {
     "data": {
      "text/plain": [
       "[2, 6, 8, 9, 55, 23223, 22124]"
      ]
     },
     "execution_count": 33,
     "metadata": {},
     "output_type": "execute_result"
    }
   ],
   "source": [
    "test6([2,6,8,9,55,\"jkfgdh\", \"kjhsdf\",23223,22124])"
   ]
  },
  {
   "cell_type": "code",
   "execution_count": 32,
   "id": "0c168638",
   "metadata": {},
   "outputs": [
    {
     "ename": "TypeError",
     "evalue": "len() takes exactly one argument (0 given)",
     "output_type": "error",
     "traceback": [
      "\u001b[1;31m---------------------------------------------------------------------------\u001b[0m",
      "\u001b[1;31mTypeError\u001b[0m                                 Traceback (most recent call last)",
      "\u001b[1;32m~\\AppData\\Local\\Temp\\ipykernel_2492\\3175031574.py\u001b[0m in \u001b[0;36m<module>\u001b[1;34m\u001b[0m\n\u001b[1;32m----> 1\u001b[1;33m \u001b[0mlen\u001b[0m\u001b[1;33m(\u001b[0m\u001b[1;33m)\u001b[0m\u001b[1;33m\u001b[0m\u001b[1;33m\u001b[0m\u001b[0m\n\u001b[0m",
      "\u001b[1;31mTypeError\u001b[0m: len() takes exactly one argument (0 given)"
     ]
    }
   ],
   "source": [
    "len()"
   ]
  },
  {
   "cell_type": "code",
   "execution_count": 27,
   "id": "7104aea9",
   "metadata": {},
   "outputs": [
    {
     "data": {
      "text/plain": [
       "[3, 4, 5, 66, 7]"
      ]
     },
     "execution_count": 27,
     "metadata": {},
     "output_type": "execute_result"
    }
   ],
   "source": [
    "test6(m)"
   ]
  },
  {
   "cell_type": "code",
   "execution_count": 24,
   "id": "98652736",
   "metadata": {},
   "outputs": [
    {
     "data": {
      "text/plain": [
       "list"
      ]
     },
     "execution_count": 24,
     "metadata": {},
     "output_type": "execute_result"
    }
   ],
   "source": [
    "type(test6(m))"
   ]
  },
  {
   "cell_type": "code",
   "execution_count": 35,
   "id": "a33a32ba",
   "metadata": {},
   "outputs": [],
   "source": [
    "#for nested list\n",
    "def test7(p):\n",
    "    s = []\n",
    "    if type(p) == list:\n",
    "        for i in p:\n",
    "            if type(i) == int:\n",
    "                s.append(i)\n",
    "            elif type(i) == list:\n",
    "                    for j in i:\n",
    "                        if type(j) == int:\n",
    "                            s.append(j)\n",
    "    return s"
   ]
  },
  {
   "cell_type": "code",
   "execution_count": 37,
   "id": "c98fecd4",
   "metadata": {},
   "outputs": [
    {
     "data": {
      "text/plain": [
       "[2, 6, 8, 9, 55, 23223, 22124]"
      ]
     },
     "execution_count": 37,
     "metadata": {},
     "output_type": "execute_result"
    }
   ],
   "source": [
    "test7([[2,6,8,],9,55,\"jkfgdh\", [\"kjhsdf\",23223,22124]])"
   ]
  },
  {
   "cell_type": "code",
   "execution_count": 68,
   "id": "e4aed2be",
   "metadata": {},
   "outputs": [],
   "source": [
    "def test8(k):\n",
    "    if type(k) == dict:\n",
    "        return k.keys()\n",
    "    else: \n",
    "        return \"you've not passed a dict\""
   ]
  },
  {
   "cell_type": "code",
   "execution_count": 2,
   "id": "5fe3e3e8",
   "metadata": {},
   "outputs": [],
   "source": [
    "o = {\"jhdh\": 2121, \"haga\": \"bro\"}"
   ]
  },
  {
   "cell_type": "code",
   "execution_count": 69,
   "id": "13b7ee35",
   "metadata": {},
   "outputs": [
    {
     "data": {
      "text/plain": [
       "dict_keys(['jhdh', 'haga'])"
      ]
     },
     "execution_count": 69,
     "metadata": {},
     "output_type": "execute_result"
    }
   ],
   "source": [
    "test8(o)"
   ]
  },
  {
   "cell_type": "code",
   "execution_count": 70,
   "id": "26187544",
   "metadata": {},
   "outputs": [
    {
     "data": {
      "text/plain": [
       "\"you've not passed a dict\""
      ]
     },
     "execution_count": 70,
     "metadata": {},
     "output_type": "execute_result"
    }
   ],
   "source": [
    "test8([21342,564,\"jhskj\"])"
   ]
  },
  {
   "cell_type": "code",
   "execution_count": 8,
   "id": "e337d5dd",
   "metadata": {},
   "outputs": [],
   "source": [
    "#for keys\n",
    "def test9(k):\n",
    "    r=[]\n",
    "    if type(k) == dict:\n",
    "        for i in k:\n",
    "            r.append(i)\n",
    "    return r"
   ]
  },
  {
   "cell_type": "code",
   "execution_count": 65,
   "id": "b362489f",
   "metadata": {},
   "outputs": [
    {
     "data": {
      "text/plain": [
       "['jhdh', 'haga']"
      ]
     },
     "execution_count": 65,
     "metadata": {},
     "output_type": "execute_result"
    }
   ],
   "source": [
    "test9(o)"
   ]
  },
  {
   "cell_type": "code",
   "execution_count": 1,
   "id": "0e38fb1f",
   "metadata": {},
   "outputs": [],
   "source": [
    "#for values\n",
    "def test10(k):\n",
    "    r=[]\n",
    "    if type(k) == dict:\n",
    "        for i in k:\n",
    "            r.append(k[i])\n",
    "    return r"
   ]
  },
  {
   "cell_type": "code",
   "execution_count": 66,
   "id": "6e3a391b",
   "metadata": {},
   "outputs": [
    {
     "data": {
      "text/plain": [
       "[2121, 'bro']"
      ]
     },
     "execution_count": 66,
     "metadata": {},
     "output_type": "execute_result"
    }
   ],
   "source": [
    "test10(o)"
   ]
  },
  {
   "cell_type": "code",
   "execution_count": 5,
   "id": "c348c3e2",
   "metadata": {},
   "outputs": [],
   "source": [
    "c = {\"a\":\"hider\", \"b\": 53634, \"c\" : [12,765,809,\"abv\"]}"
   ]
  },
  {
   "cell_type": "code",
   "execution_count": 6,
   "id": "a7e415c1",
   "metadata": {},
   "outputs": [
    {
     "data": {
      "text/plain": [
       "['hider', 53634, [12, 765, 809, 'abv']]"
      ]
     },
     "execution_count": 6,
     "metadata": {},
     "output_type": "execute_result"
    }
   ],
   "source": [
    "test10(c)"
   ]
  },
  {
   "cell_type": "code",
   "execution_count": 9,
   "id": "4f4119ad",
   "metadata": {},
   "outputs": [
    {
     "data": {
      "text/plain": [
       "['a', 'b', 'c']"
      ]
     },
     "execution_count": 9,
     "metadata": {},
     "output_type": "execute_result"
    }
   ],
   "source": [
    "test9(c)"
   ]
  },
  {
   "cell_type": "code",
   "execution_count": 30,
   "id": "7712fc9f",
   "metadata": {},
   "outputs": [],
   "source": [
    "def test11(a,b):\n",
    "     if type(a) == list and type(b) == list:\n",
    "        return a.append(b)\n",
    "     else:\n",
    "        return \"either of your data is not list\""
   ]
  },
  {
   "cell_type": "code",
   "execution_count": 14,
   "id": "9b0f9f84",
   "metadata": {},
   "outputs": [
    {
     "data": {
      "text/plain": [
       "'either of your data is not list'"
      ]
     },
     "execution_count": 14,
     "metadata": {},
     "output_type": "execute_result"
    }
   ],
   "source": [
    "test11([1121321,88738],{\"a\":647})"
   ]
  },
  {
   "cell_type": "code",
   "execution_count": 31,
   "id": "b29a47a6",
   "metadata": {},
   "outputs": [],
   "source": [
    "test11([123,3458,798],[1])"
   ]
  },
  {
   "cell_type": "code",
   "execution_count": 33,
   "id": "54cede99",
   "metadata": {},
   "outputs": [],
   "source": [
    "a = [21,5,7]\n",
    "b = [78,54]"
   ]
  },
  {
   "cell_type": "code",
   "execution_count": 34,
   "id": "06032526",
   "metadata": {},
   "outputs": [],
   "source": [
    "test11(a,b)"
   ]
  },
  {
   "cell_type": "code",
   "execution_count": 35,
   "id": "cbd34b35",
   "metadata": {},
   "outputs": [
    {
     "data": {
      "text/plain": [
       "[21, 5, 7, [78, 54]]"
      ]
     },
     "execution_count": 35,
     "metadata": {},
     "output_type": "execute_result"
    }
   ],
   "source": [
    "a"
   ]
  },
  {
   "cell_type": "code",
   "execution_count": 46,
   "id": "c0518bd1",
   "metadata": {},
   "outputs": [],
   "source": [
    " def test11a(a,b):\n",
    "    if type(a) == list and type(b) == list:\n",
    "        a.append(b)\n",
    "        return a\n",
    "    else:\n",
    "            return \"either of your data is not list\""
   ]
  },
  {
   "cell_type": "code",
   "execution_count": 47,
   "id": "4cacee97",
   "metadata": {},
   "outputs": [
    {
     "data": {
      "text/plain": [
       "[123, 3458, 798, [1]]"
      ]
     },
     "execution_count": 47,
     "metadata": {},
     "output_type": "execute_result"
    }
   ],
   "source": [
    "test11a([123,3458,798],[1])"
   ]
  },
  {
   "cell_type": "code",
   "execution_count": 44,
   "id": "26260402",
   "metadata": {},
   "outputs": [],
   "source": [
    "#for triangle pattern\n",
    "def pyramid(r):\n",
    "    for i in range(0, r):\n",
    "          for j in range(0, i + 1):\n",
    "                print(\"* \", end=' ')\n",
    "          print()"
   ]
  },
  {
   "cell_type": "code",
   "execution_count": 45,
   "id": "44ff76f6",
   "metadata": {},
   "outputs": [
    {
     "name": "stdout",
     "output_type": "stream",
     "text": [
      "*  \n",
      "*  *  \n",
      "*  *  *  \n",
      "*  *  *  *  \n"
     ]
    }
   ],
   "source": [
    "pyramid(4)"
   ]
  },
  {
   "cell_type": "code",
   "execution_count": 10,
   "id": "6bc8ef9d",
   "metadata": {},
   "outputs": [
    {
     "name": "stdout",
     "output_type": "stream",
     "text": [
      "Enter the number of rows5\n",
      "* \n",
      "* * \n",
      "* * * \n",
      "* * * * \n",
      "* * * * * \n"
     ]
    }
   ],
   "source": [
    "n = int(input(\"Enter the number of rows\"))  \n",
    "# outer loop to handle number of rows  \n",
    "for i in range(0, n):  \n",
    "    # inner loop to handle number of columns  \n",
    "    # values is changing according to outer loop  \n",
    "        for j in range(0, i + 1):  \n",
    "            # printing stars  \n",
    "            print(\"* \", end=\"\")       \n",
    "  \n",
    "        # ending line after each row  \n",
    "        print()  "
   ]
  },
  {
   "cell_type": "code",
   "execution_count": 46,
   "id": "6ba2ee0b",
   "metadata": {},
   "outputs": [
    {
     "name": "stdout",
     "output_type": "stream",
     "text": [
      "*  \n",
      "*  *  \n",
      "*  *  *  \n",
      "*  *  *  *  \n",
      "*  *  *  *  *  \n",
      "*  *  *  *  *  *  \n",
      "*  *  *  *  *  *  *  \n",
      "*  *  *  *  *  *  *  *  \n",
      "*  *  *  *  *  *  *  *  *  \n"
     ]
    }
   ],
   "source": [
    "pyramid(9)"
   ]
  },
  {
   "cell_type": "code",
   "execution_count": 51,
   "id": "7e9aa412",
   "metadata": {},
   "outputs": [],
   "source": [
    "#add instructions in fuction using triple quote : Docstring\n",
    "def pyramid(r):\n",
    "    \"\"\"this func is to build a triangle pattern of r rows\"\"\"\n",
    "    for i in range(0, r):\n",
    "          for j in range(0, i + 1):\n",
    "                print(\"* \", end=' ')\n",
    "          print()"
   ]
  },
  {
   "cell_type": "code",
   "execution_count": 52,
   "id": "3a95b605",
   "metadata": {},
   "outputs": [
    {
     "name": "stdout",
     "output_type": "stream",
     "text": [
      "*  \n",
      "*  *  \n",
      "*  *  *  \n"
     ]
    }
   ],
   "source": [
    "pyramid(3)"
   ]
  },
  {
   "cell_type": "code",
   "execution_count": 54,
   "id": "e27027eb",
   "metadata": {},
   "outputs": [
    {
     "name": "stdout",
     "output_type": "stream",
     "text": [
      "Help on function pyramid in module __main__:\n",
      "\n",
      "pyramid(r)\n",
      "    this func is to build a triangle pattern of r rows\n",
      "\n"
     ]
    }
   ],
   "source": [
    "help(pyramid)"
   ]
  },
  {
   "cell_type": "code",
   "execution_count": 56,
   "id": "944ab9d4",
   "metadata": {},
   "outputs": [
    {
     "name": "stdout",
     "output_type": "stream",
     "text": [
      "*  \n",
      "*  *  \n",
      "*  *  *  \n",
      "*  *  *  *  \n",
      "Help on NoneType object:\n",
      "\n",
      "class NoneType(object)\n",
      " |  Methods defined here:\n",
      " |  \n",
      " |  __bool__(self, /)\n",
      " |      True if self else False\n",
      " |  \n",
      " |  __repr__(self, /)\n",
      " |      Return repr(self).\n",
      " |  \n",
      " |  ----------------------------------------------------------------------\n",
      " |  Static methods defined here:\n",
      " |  \n",
      " |  __new__(*args, **kwargs) from builtins.type\n",
      " |      Create and return a new object.  See help(type) for accurate signature.\n",
      "\n"
     ]
    }
   ],
   "source": [
    "help(pyramid(4))"
   ]
  },
  {
   "cell_type": "code",
   "execution_count": 58,
   "id": "4ee9eaeb",
   "metadata": {},
   "outputs": [
    {
     "data": {
      "text/plain": [
       "'\\nprint() vs return\\nprint- nonetype\\nreturn - primitive type\\nUse print when you want to show a value to a human. return is a keyword. When a return statement is reached, \\nPython will stop the execution of the current function, sending a value out to where the function was called. \\nUse return when you want to send a value from one point in your code to another.\\n'"
      ]
     },
     "execution_count": 58,
     "metadata": {},
     "output_type": "execute_result"
    }
   ],
   "source": [
    "\"\"\"\n",
    "print() vs return\n",
    "print- nonetype\n",
    "return - primitive type\n",
    "Use print when you want to show a value to a human. return is a keyword. When a return statement is reached, \n",
    "Python will stop the execution of the current function, sending a value out to where the function was called. \n",
    "Use return when you want to send a value from one point in your code to another.\n",
    "\"\"\" "
   ]
  },
  {
   "cell_type": "code",
   "execution_count": null,
   "id": "cdcd998e",
   "metadata": {},
   "outputs": [],
   "source": [
    "#TASK-Docstring is mandatory:-\n",
    "\"\"\"\n",
    "1)Write a func to find the len of string with out using inbuilt funcs ?\n",
    "2)Write a func which will print the index of all primitive elements which you pass ?\n",
    "3)Write a func which will take input as a nested dict and give output as a list of all the values? \n",
    "It should work even if it is 2 level nested dict.\n",
    "4)Write a func which will take another func as input and return an output ?\n",
    "5)Write a func which will take multiple list as an input and which will return cocatenation all the elements in output ?\n",
    "6)Write a func which will take list as input and return index of each element like an inbuilt function ? \n",
    "It should work even in case of repetition.\n",
    "7)Write a func which will return list all the file names from a directory ?\n",
    "8)Write a func which will be able to show your system configuration ?\n",
    "9)Write a func which will be able to show date and time ?\n",
    "10)Write a func which will be able to read an image file and show it to you ?\n",
    "11)Write a func which can read a video file and play for you ?\n",
    "12)Write a func which can move a file from one directory to another directory ?\n",
    "13)Write a func which can shutdown your system ?\n",
    "14)Write a func which can access your email ?\n",
    "15)Write a func by which i can send a mail to anyone ?\n",
    "16)Write a func to read a complete pdf file ?\n",
    "17)Write a func to read a word file ?\n",
    "18)Write a func which can help you filter only word files from a directory ?\n",
    "19)Write a func by which you can print ip addresss of your sytem ?\n",
    "20)Write a func by which you will be able to append two pdf files ?\n",
    "\"\"\""
   ]
  },
  {
   "cell_type": "code",
   "execution_count": null,
   "id": "81fa75e0",
   "metadata": {},
   "outputs": [],
   "source": []
  }
 ],
 "metadata": {
  "kernelspec": {
   "display_name": "Python 3 (ipykernel)",
   "language": "python",
   "name": "python3"
  },
  "language_info": {
   "codemirror_mode": {
    "name": "ipython",
    "version": 3
   },
   "file_extension": ".py",
   "mimetype": "text/x-python",
   "name": "python",
   "nbconvert_exporter": "python",
   "pygments_lexer": "ipython3",
   "version": "3.9.13"
  }
 },
 "nbformat": 4,
 "nbformat_minor": 5
}
