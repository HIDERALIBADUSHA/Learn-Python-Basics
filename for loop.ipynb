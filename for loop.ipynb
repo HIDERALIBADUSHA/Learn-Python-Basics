{
 "cells": [
  {
   "cell_type": "code",
   "execution_count": 1,
   "id": "99178721",
   "metadata": {},
   "outputs": [
    {
     "name": "stdout",
     "output_type": "stream",
     "text": [
      "1\n",
      "2\n",
      "3\n",
      "4\n",
      "5\n",
      "6\n",
      "7\n"
     ]
    }
   ],
   "source": [
    "l = [1,2,3,4,5,6,7]\n",
    "for i in l :\n",
    "    print(i)"
   ]
  },
  {
   "cell_type": "code",
   "execution_count": 3,
   "id": "1fbac20a",
   "metadata": {},
   "outputs": [],
   "source": [
    "#the above mentioned is FOR loop \n",
    "#i is a local variable takes the value of each element of l one by one in for loop \n",
    "#iter & next are internal functions helping in this loop "
   ]
  },
  {
   "cell_type": "code",
   "execution_count": 7,
   "id": "d7b5c68c",
   "metadata": {},
   "outputs": [
    {
     "name": "stdout",
     "output_type": "stream",
     "text": [
      "('hider', 'ali')\n",
      "('hider', 'ali')\n"
     ]
    }
   ],
   "source": [
    "h = (\"hider\", \"ali\")\n",
    "for i in h :\n",
    "    print(h)"
   ]
  },
  {
   "cell_type": "code",
   "execution_count": 6,
   "id": "da4ceba2",
   "metadata": {},
   "outputs": [
    {
     "name": "stdout",
     "output_type": "stream",
     "text": [
      "h\n",
      "i\n",
      "d\n",
      "e\n",
      "r\n"
     ]
    }
   ],
   "source": [
    "for i in \"hider\":\n",
    "    print(i)"
   ]
  },
  {
   "cell_type": "code",
   "execution_count": 8,
   "id": "44fb7906",
   "metadata": {},
   "outputs": [
    {
     "name": "stdout",
     "output_type": "stream",
     "text": [
      "45\n",
      "56\n",
      "ali\n"
     ]
    }
   ],
   "source": [
    "t = (45, 56, \"ali\")\n",
    "for i in t:\n",
    "    print(i)"
   ]
  },
  {
   "cell_type": "code",
   "execution_count": 11,
   "id": "bd84a334",
   "metadata": {},
   "outputs": [],
   "source": [
    "l = [1,4, 97.434, \"badu\", 6+7j, True]\n",
    "\n"
   ]
  },
  {
   "cell_type": "code",
   "execution_count": 12,
   "id": "722a28c0",
   "metadata": {},
   "outputs": [
    {
     "name": "stdout",
     "output_type": "stream",
     "text": [
      "<class 'int'>\n",
      "<class 'int'>\n",
      "<class 'float'>\n",
      "<class 'str'>\n",
      "<class 'complex'>\n",
      "<class 'bool'>\n"
     ]
    }
   ],
   "source": [
    "for i in l :\n",
    "    print(type(i))"
   ]
  },
  {
   "cell_type": "code",
   "execution_count": 13,
   "id": "f147fed9",
   "metadata": {},
   "outputs": [
    {
     "name": "stdout",
     "output_type": "stream",
     "text": [
      "<class 'int'> type of 1\n",
      "<class 'int'> type of 4\n",
      "<class 'float'> type of 97.434\n",
      "<class 'str'> type of badu\n",
      "<class 'complex'> type of (6+7j)\n",
      "<class 'bool'> type of True\n"
     ]
    }
   ],
   "source": [
    "for i in l :\n",
    "    print(type(i), \"type of\" , i)"
   ]
  },
  {
   "cell_type": "code",
   "execution_count": 16,
   "id": "84f05052",
   "metadata": {},
   "outputs": [
    {
     "name": "stdout",
     "output_type": "stream",
     "text": [
      "3\n",
      "4\n",
      "36.34\n"
     ]
    }
   ],
   "source": [
    "l = [ 1, 2, 34.34]\n",
    "for i in l :\n",
    "    print(i+2)"
   ]
  },
  {
   "cell_type": "code",
   "execution_count": 17,
   "id": "26a80afa",
   "metadata": {},
   "outputs": [
    {
     "name": "stdout",
     "output_type": "stream",
     "text": [
      "3\n",
      "4\n",
      "36.34\n"
     ]
    }
   ],
   "source": [
    "l = [ 1, 2, 34.34]\n",
    "l1 = []\n",
    "for i in l :\n",
    "    print(i+2)\n",
    "    l1.append(i+2)"
   ]
  },
  {
   "cell_type": "code",
   "execution_count": 18,
   "id": "b2e696eb",
   "metadata": {},
   "outputs": [
    {
     "data": {
      "text/plain": [
       "[3, 4, 36.34]"
      ]
     },
     "execution_count": 18,
     "metadata": {},
     "output_type": "execute_result"
    }
   ],
   "source": [
    "l1"
   ]
  },
  {
   "cell_type": "code",
   "execution_count": 19,
   "id": "af75f348",
   "metadata": {},
   "outputs": [
    {
     "name": "stdout",
     "output_type": "stream",
     "text": [
      "2\n",
      "34\n",
      "233\n"
     ]
    },
    {
     "ename": "TypeError",
     "evalue": "can't convert complex to int",
     "output_type": "error",
     "traceback": [
      "\u001b[1;31m---------------------------------------------------------------------------\u001b[0m",
      "\u001b[1;31mTypeError\u001b[0m                                 Traceback (most recent call last)",
      "\u001b[1;32m~\\AppData\\Local\\Temp\\ipykernel_6348\\74842307.py\u001b[0m in \u001b[0;36m<module>\u001b[1;34m\u001b[0m\n\u001b[0;32m      1\u001b[0m \u001b[0ml\u001b[0m \u001b[1;33m=\u001b[0m \u001b[1;33m[\u001b[0m\u001b[1;36m2\u001b[0m\u001b[1;33m,\u001b[0m \u001b[1;36m34\u001b[0m\u001b[1;33m,\u001b[0m \u001b[1;36m233.32\u001b[0m\u001b[1;33m,\u001b[0m \u001b[1;36m7\u001b[0m\u001b[1;33m+\u001b[0m\u001b[1;36m8j\u001b[0m\u001b[1;33m,\u001b[0m \u001b[1;33m[\u001b[0m\u001b[1;36m12\u001b[0m\u001b[1;33m,\u001b[0m \u001b[1;36m455\u001b[0m\u001b[1;33m,\u001b[0m\u001b[1;36m56557\u001b[0m\u001b[1;33m]\u001b[0m\u001b[1;33m]\u001b[0m\u001b[1;33m\u001b[0m\u001b[1;33m\u001b[0m\u001b[0m\n\u001b[0;32m      2\u001b[0m \u001b[1;32mfor\u001b[0m \u001b[0mi\u001b[0m \u001b[1;32min\u001b[0m \u001b[0ml\u001b[0m \u001b[1;33m:\u001b[0m\u001b[1;33m\u001b[0m\u001b[1;33m\u001b[0m\u001b[0m\n\u001b[1;32m----> 3\u001b[1;33m     \u001b[0mprint\u001b[0m\u001b[1;33m(\u001b[0m\u001b[0mint\u001b[0m\u001b[1;33m(\u001b[0m\u001b[0mi\u001b[0m\u001b[1;33m)\u001b[0m\u001b[1;33m)\u001b[0m\u001b[1;33m\u001b[0m\u001b[1;33m\u001b[0m\u001b[0m\n\u001b[0m",
      "\u001b[1;31mTypeError\u001b[0m: can't convert complex to int"
     ]
    }
   ],
   "source": [
    "l = [2, 34, 233.32, 7+8j, [12, 455,56557]]\n",
    "for i in l :\n",
    "    print(int(i))"
   ]
  },
  {
   "cell_type": "code",
   "execution_count": 20,
   "id": "3d7d2db0",
   "metadata": {},
   "outputs": [
    {
     "name": "stdout",
     "output_type": "stream",
     "text": [
      "2\n",
      "34\n"
     ]
    }
   ],
   "source": [
    "l = [2, 34, 233.32, 7+8j, [12, 455,56557]]\n",
    "for i in l :\n",
    "    if type(i)== int :\n",
    "        print(i)"
   ]
  },
  {
   "cell_type": "code",
   "execution_count": 23,
   "id": "fcc61ee2",
   "metadata": {},
   "outputs": [
    {
     "name": "stdout",
     "output_type": "stream",
     "text": [
      "(7+8j)\n"
     ]
    }
   ],
   "source": [
    "l = [2, 34, 233.32, 7+8j, [12, 455,56557]]\n",
    "for i in l :\n",
    "    if type(i) == complex :\n",
    "        print(i)"
   ]
  },
  {
   "cell_type": "code",
   "execution_count": 25,
   "id": "f1a19cf3",
   "metadata": {},
   "outputs": [
    {
     "name": "stdout",
     "output_type": "stream",
     "text": [
      "2\n",
      "34\n",
      "233.32\n",
      "(7+8j)\n",
      "[12, 455, 56557]\n"
     ]
    }
   ],
   "source": [
    "l = [2, 34, 233.32, 7+8j, [12, 455,56557]]\n",
    "for i in l :\n",
    "    if type(i) == bool :\n",
    "        print(i+K)\n",
    "    else :\n",
    "        print(i)"
   ]
  },
  {
   "cell_type": "code",
   "execution_count": 27,
   "id": "ff1c90f3",
   "metadata": {},
   "outputs": [],
   "source": [
    "#retriving perticular data eg : int, bool , ... with for loop and if condition \n"
   ]
  },
  {
   "cell_type": "code",
   "execution_count": 28,
   "id": "9756829a",
   "metadata": {},
   "outputs": [
    {
     "name": "stdout",
     "output_type": "stream",
     "text": [
      "2\n",
      "34\n",
      "233\n",
      "12\n",
      "455\n",
      "56557\n"
     ]
    }
   ],
   "source": [
    "l = [2, 34, 233, 7+8j, [12, 455,56557]]\n",
    "for i in l :\n",
    "    if type(i) == int :\n",
    "        print(i)\n",
    "    elif type(i) == list :\n",
    "        for j in i :\n",
    "            print(j)"
   ]
  },
  {
   "cell_type": "code",
   "execution_count": 30,
   "id": "94bbe1e8",
   "metadata": {},
   "outputs": [
    {
     "name": "stdout",
     "output_type": "stream",
     "text": [
      "2\n",
      "34\n",
      "233\n",
      "12\n",
      "455\n",
      "56557\n"
     ]
    }
   ],
   "source": [
    "l = [2, 34, 233, 7+8j, [12, 455,56557, \"hider\"]]\n",
    "for i in l :\n",
    "    if type(i) == int :\n",
    "        print(i)\n",
    "    elif type(i) == list :\n",
    "        for j in i :\n",
    "            if type(j) == int :\n",
    "              print(j)"
   ]
  },
  {
   "cell_type": "code",
   "execution_count": null,
   "id": "5f9c469e",
   "metadata": {},
   "outputs": [],
   "source": [
    "#Assignement Q1 : Try to print index of all the element of l"
   ]
  },
  {
   "cell_type": "code",
   "execution_count": 104,
   "id": "d5568e8b",
   "metadata": {},
   "outputs": [
    {
     "name": "stdout",
     "output_type": "stream",
     "text": [
      "0 2\n",
      "1 34\n",
      "1 34\n",
      "1 34\n",
      "4 233\n",
      "5 546\n",
      "6 ali\n",
      "7 (7+8j)\n",
      "8 [12, 45, 56, 'hider']\n"
     ]
    }
   ],
   "source": [
    "l = [2, 34,34,34, 233, 546, \"ali\", 7+8j, [12, 45,56, \"hider\"]]\n",
    "for i in l :\n",
    "      print(l.index(i),i)"
   ]
  },
  {
   "cell_type": "code",
   "execution_count": 105,
   "id": "929e1d09",
   "metadata": {},
   "outputs": [],
   "source": [
    "#Answer A"
   ]
  },
  {
   "cell_type": "code",
   "execution_count": 106,
   "id": "a86e3298",
   "metadata": {},
   "outputs": [
    {
     "data": {
      "text/plain": [
       "range(0, 4)"
      ]
     },
     "execution_count": 106,
     "metadata": {},
     "output_type": "execute_result"
    }
   ],
   "source": [
    "range(4)"
   ]
  },
  {
   "cell_type": "code",
   "execution_count": 108,
   "id": "ec26a3e0",
   "metadata": {},
   "outputs": [
    {
     "name": "stdout",
     "output_type": "stream",
     "text": [
      "index is 0 for element 2\n",
      "index is 1 for element 34\n",
      "index is 2 for element 34\n",
      "index is 3 for element 34\n",
      "index is 4 for element 233\n",
      "index is 5 for element 546\n",
      "index is 6 for element ali\n",
      "index is 7 for element (7+8j)\n",
      "index is 8 for element [12, 45, 56, 'hider']\n"
     ]
    }
   ],
   "source": [
    "for i in range(len(l)): \n",
    "    print(\"index is\" , i , \"for element\", l[i])"
   ]
  },
  {
   "cell_type": "raw",
   "id": "5d8dc693",
   "metadata": {},
   "source": [
    "len(l)"
   ]
  },
  {
   "cell_type": "code",
   "execution_count": 110,
   "id": "0546ecd8",
   "metadata": {},
   "outputs": [
    {
     "name": "stdout",
     "output_type": "stream",
     "text": [
      "(0, 2)\n",
      "(1, 34)\n",
      "(2, 34)\n",
      "(3, 34)\n",
      "(4, 233)\n",
      "(5, 546)\n",
      "(6, 'ali')\n",
      "(7, (7+8j))\n",
      "(8, [12, 45, 56, 'hider'])\n"
     ]
    }
   ],
   "source": [
    "#Answer b\n",
    "for i in enumerate(l) :\n",
    "    print(i)"
   ]
  },
  {
   "cell_type": "code",
   "execution_count": 111,
   "id": "519d2f11",
   "metadata": {},
   "outputs": [
    {
     "name": "stdout",
     "output_type": "stream",
     "text": [
      "0 2\n",
      "1 34\n",
      "2 34\n",
      "3 34\n",
      "4 233\n",
      "5 546\n",
      "6 ali\n",
      "7 (7+8j)\n",
      "8 [12, 45, 56, 'hider']\n"
     ]
    }
   ],
   "source": [
    "for i,j in enumerate(l) :\n",
    "    print(i,j)"
   ]
  },
  {
   "cell_type": "code",
   "execution_count": 112,
   "id": "e478c26f",
   "metadata": {},
   "outputs": [
    {
     "data": {
      "text/plain": [
       "0"
      ]
     },
     "execution_count": 112,
     "metadata": {},
     "output_type": "execute_result"
    }
   ],
   "source": [
    "l.index(2)"
   ]
  },
  {
   "cell_type": "code",
   "execution_count": 53,
   "id": "3c0f7f8d",
   "metadata": {},
   "outputs": [],
   "source": [
    "#Assignement Q2 : Try to extract all the list of char if element is string"
   ]
  },
  {
   "cell_type": "code",
   "execution_count": 133,
   "id": "47033968",
   "metadata": {},
   "outputs": [
    {
     "name": "stdout",
     "output_type": "stream",
     "text": [
      "['a', 'l', 'i']\n",
      "['b', 'a', 'd', 'u']\n"
     ]
    }
   ],
   "source": [
    "l = [2, 34, 233, 546, \"ali\",\"badu\" , 7+8j, [12, 45,56, \"hider\"]]\n",
    "\n",
    "for i in l:\n",
    "    if type(i) == str :\n",
    "        l1 = []\n",
    "        for j in i :\n",
    "          l1.append(j)\n",
    "        print(l1)"
   ]
  },
  {
   "cell_type": "code",
   "execution_count": 124,
   "id": "5d698b9d",
   "metadata": {},
   "outputs": [
    {
     "data": {
      "text/plain": [
       "['a', 'l', 'i']"
      ]
     },
     "execution_count": 124,
     "metadata": {},
     "output_type": "execute_result"
    }
   ],
   "source": [
    "l1"
   ]
  },
  {
   "cell_type": "code",
   "execution_count": 76,
   "id": "25a1335e",
   "metadata": {},
   "outputs": [],
   "source": [
    "#Assignement Q3 : Try to return a list after doing a square of all int element"
   ]
  },
  {
   "cell_type": "code",
   "execution_count": 141,
   "id": "6441490e",
   "metadata": {},
   "outputs": [],
   "source": [
    "l = [2, 34, 233, 546, \"ali\", 7+8j, [12, 45,56, \"hider\"]]\n",
    "l2 = []\n",
    "for i in l :\n",
    "    if type(i) == int :\n",
    "        l2.append(i**2)\n",
    "          "
   ]
  },
  {
   "cell_type": "code",
   "execution_count": 142,
   "id": "887278f5",
   "metadata": {},
   "outputs": [
    {
     "data": {
      "text/plain": [
       "[4, 1156, 54289, 298116]"
      ]
     },
     "execution_count": 142,
     "metadata": {},
     "output_type": "execute_result"
    }
   ],
   "source": [
    "l2"
   ]
  },
  {
   "cell_type": "code",
   "execution_count": null,
   "id": "19d60c57",
   "metadata": {},
   "outputs": [],
   "source": []
  }
 ],
 "metadata": {
  "kernelspec": {
   "display_name": "Python 3 (ipykernel)",
   "language": "python",
   "name": "python3"
  },
  "language_info": {
   "codemirror_mode": {
    "name": "ipython",
    "version": 3
   },
   "file_extension": ".py",
   "mimetype": "text/x-python",
   "name": "python",
   "nbconvert_exporter": "python",
   "pygments_lexer": "ipython3",
   "version": "3.9.13"
  }
 },
 "nbformat": 4,
 "nbformat_minor": 5
}
