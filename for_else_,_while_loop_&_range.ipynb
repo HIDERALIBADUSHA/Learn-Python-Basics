{
  "nbformat": 4,
  "nbformat_minor": 0,
  "metadata": {
    "colab": {
      "provenance": []
    },
    "kernelspec": {
      "name": "python3",
      "display_name": "Python 3"
    },
    "language_info": {
      "name": "python"
    }
  },
  "cells": [
    {
      "cell_type": "code",
      "execution_count": 1,
      "metadata": {
        "colab": {
          "base_uri": "https://localhost:8080/"
        },
        "id": "mywdZjdX_idc",
        "outputId": "4bcad9a1-dd5c-4243-eac8-93c32aa214a4"
      },
      "outputs": [
        {
          "output_type": "stream",
          "name": "stdout",
          "text": [
            "name\n",
            "emailid\n",
            "phone no\n",
            "address\n"
          ]
        }
      ],
      "source": [
        "l = [ \"name\", \"emailid\" ,\"phone no\", \"address\"]\n",
        "for i in l :\n",
        "  print(i)"
      ]
    },
    {
      "cell_type": "code",
      "source": [
        "l = [ \"name\", \"emailid\" ,\"phone no\", \"address\"]\n",
        "for i in l :\n",
        "  print(i + \"hider\")\n"
      ],
      "metadata": {
        "colab": {
          "base_uri": "https://localhost:8080/"
        },
        "id": "ID6NSQqOAx72",
        "outputId": "c7f0e704-bb80-4d02-e63a-0faff47c2df9"
      },
      "execution_count": 2,
      "outputs": [
        {
          "output_type": "stream",
          "name": "stdout",
          "text": [
            "namehider\n",
            "emailidhider\n",
            "phone nohider\n",
            "addresshider\n"
          ]
        }
      ]
    },
    {
      "cell_type": "code",
      "source": [
        "h = \"badusha\"\n",
        "for i in h :\n",
        "  print(i)"
      ],
      "metadata": {
        "colab": {
          "base_uri": "https://localhost:8080/"
        },
        "id": "jcemsIN8BGsl",
        "outputId": "0d1a40a5-b074-434d-eacc-c73e0ae18162"
      },
      "execution_count": 3,
      "outputs": [
        {
          "output_type": "stream",
          "name": "stdout",
          "text": [
            "b\n",
            "a\n",
            "d\n",
            "u\n",
            "s\n",
            "h\n",
            "a\n"
          ]
        }
      ]
    },
    {
      "cell_type": "code",
      "source": [
        "l = [ \"name\", \"emailid\" ,\"phone no\", \"address\"]\n",
        "for i in l :\n",
        "  print(range(len(l)), i)\n"
      ],
      "metadata": {
        "colab": {
          "base_uri": "https://localhost:8080/"
        },
        "id": "YF0eQdfFBSrq",
        "outputId": "630b3ae8-7c12-4629-e9d6-c5af8e43b12a"
      },
      "execution_count": 6,
      "outputs": [
        {
          "output_type": "stream",
          "name": "stdout",
          "text": [
            "range(0, 4) name\n",
            "range(0, 4) emailid\n",
            "range(0, 4) phone no\n",
            "range(0, 4) address\n"
          ]
        }
      ]
    },
    {
      "cell_type": "code",
      "source": [
        "l = [ \"name\", \"emailid\" ,\"phone no\", \"address\"]\n",
        "for i,j in enumerate(l) :\n",
        "  print(i,j)"
      ],
      "metadata": {
        "colab": {
          "base_uri": "https://localhost:8080/"
        },
        "id": "ac0Jn22jBpQW",
        "outputId": "789e5751-e572-4b2c-aea7-41c3f9011be0"
      },
      "execution_count": 7,
      "outputs": [
        {
          "output_type": "stream",
          "name": "stdout",
          "text": [
            "0 name\n",
            "1 emailid\n",
            "2 phone no\n",
            "3 address\n"
          ]
        }
      ]
    },
    {
      "cell_type": "code",
      "source": [
        "l"
      ],
      "metadata": {
        "colab": {
          "base_uri": "https://localhost:8080/"
        },
        "id": "N2Mctpu5EfEG",
        "outputId": "7f90fd39-70b1-4b78-bdf4-560594d6af6b"
      },
      "execution_count": 9,
      "outputs": [
        {
          "output_type": "execute_result",
          "data": {
            "text/plain": [
              "['name', 'emailid', 'phone no', 'address']"
            ]
          },
          "metadata": {},
          "execution_count": 9
        }
      ]
    },
    {
      "cell_type": "code",
      "source": [
        "for i in l :\n",
        "  print(i)\n",
        "else :\n",
        "    print(\"if for loop is going to complete itself then it will come to else\")"
      ],
      "metadata": {
        "colab": {
          "base_uri": "https://localhost:8080/"
        },
        "id": "EGV3XxU1FDgY",
        "outputId": "45f8648a-bc13-4137-b012-f74d54329843"
      },
      "execution_count": 11,
      "outputs": [
        {
          "output_type": "stream",
          "name": "stdout",
          "text": [
            "name\n",
            "emailid\n",
            "phone no\n",
            "address\n",
            "if for loop is going to complete itself then it will come to else\n"
          ]
        }
      ]
    },
    {
      "cell_type": "code",
      "source": [
        "#if for loop is not going to complete itself then it will not come to else\n",
        "l"
      ],
      "metadata": {
        "colab": {
          "base_uri": "https://localhost:8080/"
        },
        "id": "b5d545oKFe70",
        "outputId": "1f443659-fa86-4c60-ca0e-afdb1d4cd494"
      },
      "execution_count": 12,
      "outputs": [
        {
          "output_type": "execute_result",
          "data": {
            "text/plain": [
              "['name', 'emailid', 'phone no', 'address']"
            ]
          },
          "metadata": {},
          "execution_count": 12
        }
      ]
    },
    {
      "cell_type": "code",
      "source": [
        "for i in l :\n",
        "   if i == \"name\" :\n",
        "       break\n",
        "   print(i)\n",
        "      \n",
        "else :\n",
        "      print(\"check this statement\")"
      ],
      "metadata": {
        "id": "66lmSu-vGRWV"
      },
      "execution_count": 33,
      "outputs": []
    },
    {
      "cell_type": "code",
      "source": [
        "for i in l :\n",
        "   if i == \"emailid\" :\n",
        "       break\n",
        "   print(i)\n",
        "      \n",
        "else :\n",
        "      print(\"check this statement\")"
      ],
      "metadata": {
        "colab": {
          "base_uri": "https://localhost:8080/"
        },
        "id": "RUpi9uTdGjGS",
        "outputId": "4fdac9d2-6ea9-4e16-d359-7511a5f25100"
      },
      "execution_count": 31,
      "outputs": [
        {
          "output_type": "stream",
          "name": "stdout",
          "text": [
            "name\n"
          ]
        }
      ]
    },
    {
      "cell_type": "code",
      "source": [
        "h = \"hiderali\"\n",
        "for i in h :\n",
        "  if i == \"r\":\n",
        "     break\n",
        "else :\n",
        "    print(\"don't execute untill it is printing my name\")\n",
        "  "
      ],
      "metadata": {
        "id": "8vEnnLs1HgAt"
      },
      "execution_count": 40,
      "outputs": []
    },
    {
      "cell_type": "code",
      "source": [
        "# for else can be used in case if the 2nd(else) condition has to be only happeneing after completion first condition (for loop)\n",
        "#if the <for> loop is not complete then it won't execute <else>"
      ],
      "metadata": {
        "id": "kKZjtI51b8mZ"
      },
      "execution_count": null,
      "outputs": []
    },
    {
      "cell_type": "code",
      "source": [
        "a = 1 \n",
        "while a < 6 :\n",
        "     print(a)\n",
        "     a = a + 1"
      ],
      "metadata": {
        "colab": {
          "base_uri": "https://localhost:8080/"
        },
        "id": "Xg6QS0vJI7Nz",
        "outputId": "18128ff4-4a70-4e7b-a987-b92eb6196d34"
      },
      "execution_count": 39,
      "outputs": [
        {
          "output_type": "stream",
          "name": "stdout",
          "text": [
            "1\n",
            "2\n",
            "3\n",
            "4\n",
            "5\n"
          ]
        }
      ]
    },
    {
      "cell_type": "code",
      "source": [
        " a = 1\n",
        " while a < 5 :\n",
        "      print(a)\n",
        "      if a == 4 :\n",
        "          break \n",
        "      a = a + 1 "
      ],
      "metadata": {
        "colab": {
          "base_uri": "https://localhost:8080/"
        },
        "id": "4WIa69W2bCV7",
        "outputId": "0ba894b2-9ffc-45ca-d5c9-f4750ae81c73"
      },
      "execution_count": 43,
      "outputs": [
        {
          "output_type": "stream",
          "name": "stdout",
          "text": [
            "1\n",
            "2\n",
            "3\n",
            "4\n"
          ]
        }
      ]
    },
    {
      "cell_type": "code",
      "source": [
        "a = 1\n",
        "while a < 5 :\n",
        "    print(a)\n",
        "    a = a + 1\n",
        "    if a == 3 :\n",
        "         continue\n",
        "    "
      ],
      "metadata": {
        "colab": {
          "base_uri": "https://localhost:8080/"
        },
        "id": "jZO3fsbCdRdB",
        "outputId": "550bf178-2e24-4286-9311-3a51dfffad1a"
      },
      "execution_count": 49,
      "outputs": [
        {
          "output_type": "stream",
          "name": "stdout",
          "text": [
            "1\n",
            "2\n",
            "3\n",
            "4\n"
          ]
        }
      ]
    },
    {
      "cell_type": "code",
      "source": [
        "# in the above example while is true till a=4, but if is only true when a=3 and it continues \n",
        "#here if doesn't impact as the while loop  is gonna continue untill its condition becomes false\n",
        "#if the  a= a+1 condition was in the last line , it is gonna give infinite number of 3s after 1&2. like 1233333333333333333........."
      ],
      "metadata": {
        "id": "Z3QmdyHLelvQ"
      },
      "execution_count": 50,
      "outputs": []
    },
    {
      "cell_type": "code",
      "source": [
        "while a < 5 :\n",
        "  "
      ],
      "metadata": {
        "colab": {
          "base_uri": "https://localhost:8080/",
          "height": 131
        },
        "id": "bOutYRHRiF1k",
        "outputId": "1e28dd18-9146-4190-d790-68ac7651177d"
      },
      "execution_count": 51,
      "outputs": [
        {
          "output_type": "error",
          "ename": "SyntaxError",
          "evalue": "ignored",
          "traceback": [
            "\u001b[0;36m  File \u001b[0;32m\"<ipython-input-51-4ff4a78465e2>\"\u001b[0;36m, line \u001b[0;32m2\u001b[0m\n\u001b[0;31m    \u001b[0m\n\u001b[0m    ^\u001b[0m\n\u001b[0;31mSyntaxError\u001b[0m\u001b[0;31m:\u001b[0m unexpected EOF while parsing\n"
          ]
        }
      ]
    },
    {
      "cell_type": "code",
      "source": [
        "while a < 5 :\n",
        "  pass"
      ],
      "metadata": {
        "id": "gVBjIUteif3B"
      },
      "execution_count": 52,
      "outputs": []
    },
    {
      "cell_type": "code",
      "source": [
        "for i in l :\n",
        "  "
      ],
      "metadata": {
        "colab": {
          "base_uri": "https://localhost:8080/",
          "height": 131
        },
        "id": "Wcc5AbX-il1Z",
        "outputId": "4076c837-720f-4d99-bcad-551e6ab4bbc4"
      },
      "execution_count": 53,
      "outputs": [
        {
          "output_type": "error",
          "ename": "SyntaxError",
          "evalue": "ignored",
          "traceback": [
            "\u001b[0;36m  File \u001b[0;32m\"<ipython-input-53-56c7a701d598>\"\u001b[0;36m, line \u001b[0;32m2\u001b[0m\n\u001b[0;31m    \u001b[0m\n\u001b[0m    ^\u001b[0m\n\u001b[0;31mSyntaxError\u001b[0m\u001b[0;31m:\u001b[0m unexpected EOF while parsing\n"
          ]
        }
      ]
    },
    {
      "cell_type": "code",
      "source": [
        "for i in l :\n",
        "   pass"
      ],
      "metadata": {
        "id": "nNTVw0VDisFN"
      },
      "execution_count": 56,
      "outputs": []
    },
    {
      "cell_type": "code",
      "source": [
        "while a < 4 :\n",
        "   break"
      ],
      "metadata": {
        "id": "pQ5tlgCNivNN"
      },
      "execution_count": 55,
      "outputs": []
    },
    {
      "cell_type": "code",
      "source": [
        "while a < 4 :\n",
        "     continue\n",
        "    #this will keep on executing "
      ],
      "metadata": {
        "id": "5t-5tJEDizlW"
      },
      "execution_count": 57,
      "outputs": []
    },
    {
      "cell_type": "code",
      "source": [
        "# print triangular/pyramid structure similar to 1s2 2s2 2p6 3s2 3p6 3d10 4s2 4p6 4d10 4f14 etc"
      ],
      "metadata": {
        "id": "oJlmGnzNi8jW"
      },
      "execution_count": 58,
      "outputs": []
    },
    {
      "cell_type": "code",
      "source": [
        "range(6)"
      ],
      "metadata": {
        "colab": {
          "base_uri": "https://localhost:8080/"
        },
        "id": "oNTRcjwCk2Js",
        "outputId": "49d724ed-5608-4cef-b9f6-f47343da2f0a"
      },
      "execution_count": 59,
      "outputs": [
        {
          "output_type": "execute_result",
          "data": {
            "text/plain": [
              "range(0, 6)"
            ]
          },
          "metadata": {},
          "execution_count": 59
        }
      ]
    },
    {
      "cell_type": "code",
      "source": [
        "#<range> acts like data generator/producer as a range of data\n",
        "#if you want to get n number of data , need to request n+1 data , it excludes the last one similar to slicing ops and indexing , list parsing ops\n",
        "#won't be able to see the data untill or unless u hold the data in some of the collections"
      ],
      "metadata": {
        "id": "BcPlsGAklBIP"
      },
      "execution_count": 61,
      "outputs": []
    },
    {
      "cell_type": "code",
      "source": [
        "list(range(6))"
      ],
      "metadata": {
        "colab": {
          "base_uri": "https://localhost:8080/"
        },
        "id": "C1GsfNuWljXk",
        "outputId": "c2e7780a-791d-49c4-b7b8-679ddf7f1b67"
      },
      "execution_count": 62,
      "outputs": [
        {
          "output_type": "execute_result",
          "data": {
            "text/plain": [
              "[0, 1, 2, 3, 4, 5]"
            ]
          },
          "metadata": {},
          "execution_count": 62
        }
      ]
    },
    {
      "cell_type": "code",
      "source": [
        "range(0,7)"
      ],
      "metadata": {
        "colab": {
          "base_uri": "https://localhost:8080/"
        },
        "id": "S99ItKgrmTPB",
        "outputId": "359e7dbc-f6a8-4eb3-ebfb-f4c46be8d765"
      },
      "execution_count": 63,
      "outputs": [
        {
          "output_type": "execute_result",
          "data": {
            "text/plain": [
              "range(0, 7)"
            ]
          },
          "metadata": {},
          "execution_count": 63
        }
      ]
    },
    {
      "cell_type": "code",
      "source": [
        "# 0 is lower bound\n",
        "# 7 is upper bound"
      ],
      "metadata": {
        "id": "eQCgezBrmduv"
      },
      "execution_count": 64,
      "outputs": []
    },
    {
      "cell_type": "code",
      "source": [
        "list(range(0,7))"
      ],
      "metadata": {
        "colab": {
          "base_uri": "https://localhost:8080/"
        },
        "id": "mfBXwLirmnHR",
        "outputId": "63ec5da1-56b7-4f5f-b6e7-849c6421098c"
      },
      "execution_count": 65,
      "outputs": [
        {
          "output_type": "execute_result",
          "data": {
            "text/plain": [
              "[0, 1, 2, 3, 4, 5, 6]"
            ]
          },
          "metadata": {},
          "execution_count": 65
        }
      ]
    },
    {
      "cell_type": "code",
      "source": [
        "list(range(3,15))"
      ],
      "metadata": {
        "colab": {
          "base_uri": "https://localhost:8080/"
        },
        "id": "YOY7Ah37mqaz",
        "outputId": "04bdabe1-9797-4edd-ad26-cfba8127b4bc"
      },
      "execution_count": 69,
      "outputs": [
        {
          "output_type": "execute_result",
          "data": {
            "text/plain": [
              "[3, 4, 5, 6, 7, 8, 9, 10, 11, 12, 13, 14]"
            ]
          },
          "metadata": {},
          "execution_count": 69
        }
      ]
    },
    {
      "cell_type": "code",
      "source": [
        "list(range(3,15, 3))"
      ],
      "metadata": {
        "colab": {
          "base_uri": "https://localhost:8080/"
        },
        "id": "km5qIjv2mzEo",
        "outputId": "d122240a-1aff-424d-830f-13db9fef6be8"
      },
      "execution_count": 70,
      "outputs": [
        {
          "output_type": "execute_result",
          "data": {
            "text/plain": [
              "[3, 6, 9, 12]"
            ]
          },
          "metadata": {},
          "execution_count": 70
        }
      ]
    },
    {
      "cell_type": "code",
      "source": [
        "list(range(6,120, 6))"
      ],
      "metadata": {
        "colab": {
          "base_uri": "https://localhost:8080/"
        },
        "id": "5urJyCi1nCLI",
        "outputId": "635b135c-8fa9-403d-ed0c-4798581d15fe"
      },
      "execution_count": 71,
      "outputs": [
        {
          "output_type": "execute_result",
          "data": {
            "text/plain": [
              "[6, 12, 18, 24, 30, 36, 42, 48, 54, 60, 66, 72, 78, 84, 90, 96, 102, 108, 114]"
            ]
          },
          "metadata": {},
          "execution_count": 71
        }
      ]
    },
    {
      "cell_type": "code",
      "source": [
        "list(range(3,15, -1))"
      ],
      "metadata": {
        "colab": {
          "base_uri": "https://localhost:8080/"
        },
        "id": "sCeCIRg6nGlr",
        "outputId": "588e444c-c812-4290-afee-fac6486aa869"
      },
      "execution_count": 72,
      "outputs": [
        {
          "output_type": "execute_result",
          "data": {
            "text/plain": [
              "[]"
            ]
          },
          "metadata": {},
          "execution_count": 72
        }
      ]
    },
    {
      "cell_type": "code",
      "source": [
        "list(range(10,6,-1))"
      ],
      "metadata": {
        "colab": {
          "base_uri": "https://localhost:8080/"
        },
        "id": "moTaOq5EnOga",
        "outputId": "1618b0c7-c3d0-4f3c-f2ba-2f597a4a06d6"
      },
      "execution_count": 73,
      "outputs": [
        {
          "output_type": "execute_result",
          "data": {
            "text/plain": [
              "[10, 9, 8, 7]"
            ]
          },
          "metadata": {},
          "execution_count": 73
        }
      ]
    },
    {
      "cell_type": "code",
      "source": [
        "list(range(10,-5,-2))"
      ],
      "metadata": {
        "colab": {
          "base_uri": "https://localhost:8080/"
        },
        "id": "owqZTEhvn5ht",
        "outputId": "c972038d-5f8d-4ced-f0a8-df9d3046269e"
      },
      "execution_count": 74,
      "outputs": [
        {
          "output_type": "execute_result",
          "data": {
            "text/plain": [
              "[10, 8, 6, 4, 2, 0, -2, -4]"
            ]
          },
          "metadata": {},
          "execution_count": 74
        }
      ]
    },
    {
      "cell_type": "code",
      "source": [
        "for i in range(7) :\n",
        "   print(i)"
      ],
      "metadata": {
        "colab": {
          "base_uri": "https://localhost:8080/"
        },
        "id": "Eq7KPP5bo4-B",
        "outputId": "05428028-1302-4a99-d31b-93b20602e1d4"
      },
      "execution_count": 75,
      "outputs": [
        {
          "output_type": "stream",
          "name": "stdout",
          "text": [
            "0\n",
            "1\n",
            "2\n",
            "3\n",
            "4\n",
            "5\n",
            "6\n"
          ]
        }
      ]
    },
    {
      "cell_type": "code",
      "source": [
        "for i in range(10,-5,-2) :\n",
        "  print(i)"
      ],
      "metadata": {
        "colab": {
          "base_uri": "https://localhost:8080/"
        },
        "id": "KqFjIl8NpLNF",
        "outputId": "23633726-27e7-4a3d-eedb-72b6e471ff25"
      },
      "execution_count": 76,
      "outputs": [
        {
          "output_type": "stream",
          "name": "stdout",
          "text": [
            "10\n",
            "8\n",
            "6\n",
            "4\n",
            "2\n",
            "0\n",
            "-2\n",
            "-4\n"
          ]
        }
      ]
    },
    {
      "cell_type": "code",
      "source": [
        "n = 5\n",
        "for i in range(0,n):\n",
        "   for j in range(0,i+1) :\n",
        "      print(\"*\",end = \"\")\n",
        "   print(\"\\r\")"
      ],
      "metadata": {
        "colab": {
          "base_uri": "https://localhost:8080/"
        },
        "id": "SE49jW3OptQo",
        "outputId": "b58476af-a679-4fd1-b7bb-7e7c3a58f092"
      },
      "execution_count": 77,
      "outputs": [
        {
          "output_type": "stream",
          "name": "stdout",
          "text": [
            "*\r\n",
            "**\r\n",
            "***\r\n",
            "****\r\n",
            "*****\r\n"
          ]
        }
      ]
    },
    {
      "cell_type": "code",
      "source": [
        "# print triangular/pyramid structure similar to 1s2 2s2 2p6 3s2 3p6 3d10 4s2 4p6 4d10 4f14 etc.\n",
        "#<i> is helping us to create rows and <j> is helping to create colomns \n",
        "#n = 5 means 5*5 matrix/sheet where allocating the values "
      ],
      "metadata": {
        "id": "43RTsh4QqJLO"
      },
      "execution_count": 78,
      "outputs": []
    },
    {
      "cell_type": "code",
      "source": [
        "for i in range(0,5) :\n",
        "   print(i)"
      ],
      "metadata": {
        "colab": {
          "base_uri": "https://localhost:8080/"
        },
        "id": "fkQLoL7wrGvG",
        "outputId": "cfae04e8-ffd5-455a-8b7b-b9eec17018b8"
      },
      "execution_count": 82,
      "outputs": [
        {
          "output_type": "stream",
          "name": "stdout",
          "text": [
            "0\n",
            "1\n",
            "2\n",
            "3\n",
            "4\n"
          ]
        }
      ]
    },
    {
      "cell_type": "code",
      "source": [
        "n = -5\n",
        "for i in range(n,0):\n",
        "   for j in range(i+1,0) :\n",
        "      print(\"hider \",end = \"\")\n",
        "   print(\"\\r\")"
      ],
      "metadata": {
        "colab": {
          "base_uri": "https://localhost:8080/"
        },
        "id": "JyfGhvRJrLll",
        "outputId": "e90d1bd7-336a-44b5-9e01-5872ea9d5f79"
      },
      "execution_count": 89,
      "outputs": [
        {
          "output_type": "stream",
          "name": "stdout",
          "text": [
            "hider hider hider hider \r\n",
            "hider hider hider \r\n",
            "hider hider \r\n",
            "hider \r\n",
            "\r\n"
          ]
        }
      ]
    },
    {
      "cell_type": "code",
      "source": [
        "n = 8\n",
        "for i in range(0,n):\n",
        "   for j in range(0,i+1) :\n",
        "      print(\"ali \",end = \"\")\n",
        "   print(\"\\r\")"
      ],
      "metadata": {
        "colab": {
          "base_uri": "https://localhost:8080/"
        },
        "id": "_w1QqRiBsczJ",
        "outputId": "f16e3ce1-ac1f-424b-ce1f-9da520a40188"
      },
      "execution_count": 103,
      "outputs": [
        {
          "output_type": "stream",
          "name": "stdout",
          "text": [
            "ali \r\n",
            "ali ali \r\n",
            "ali ali ali \r\n",
            "ali ali ali ali \r\n",
            "ali ali ali ali ali \r\n",
            "ali ali ali ali ali ali \r\n",
            "ali ali ali ali ali ali ali \r\n",
            "ali ali ali ali ali ali ali ali \r\n"
          ]
        }
      ]
    },
    {
      "cell_type": "code",
      "source": [
        "n = 4\n",
        "for i in range(0,n):\n",
        "   for j in range(0,i+1) :\n",
        "      print(\"ali \")\n",
        "   print(\"\\r\")"
      ],
      "metadata": {
        "colab": {
          "base_uri": "https://localhost:8080/"
        },
        "id": "N6h7i5m3uNp6",
        "outputId": "2cf36f17-e041-49dc-d588-9d1ed0024145"
      },
      "execution_count": 106,
      "outputs": [
        {
          "output_type": "stream",
          "name": "stdout",
          "text": [
            "ali \n",
            "\r\n",
            "ali \n",
            "ali \n",
            "\r\n",
            "ali \n",
            "ali \n",
            "ali \n",
            "\r\n",
            "ali \n",
            "ali \n",
            "ali \n",
            "ali \n",
            "\r\n"
          ]
        }
      ]
    },
    {
      "cell_type": "code",
      "source": [
        "n = 4\n",
        "for i in range(0,n):\n",
        "   for j in range(0,i+1) :\n",
        "      print(\"ali \", end = \"u\")\n",
        "   print(\"\\r\")"
      ],
      "metadata": {
        "colab": {
          "base_uri": "https://localhost:8080/"
        },
        "id": "rpI1xCGCvY0l",
        "outputId": "ae259ec9-2738-441f-90af-918afe2707d9"
      },
      "execution_count": 108,
      "outputs": [
        {
          "output_type": "stream",
          "name": "stdout",
          "text": [
            "ali u\r\n",
            "ali uali u\r\n",
            "ali uali uali u\r\n",
            "ali uali uali uali u\r\n"
          ]
        }
      ]
    },
    {
      "cell_type": "code",
      "source": [
        "n = 4\n",
        "for i in range(0,n):\n",
        "   for j in range(0,i+1) :\n",
        "      print(\"ali \", end = \"\")\n",
        "   print(\"\\n\")"
      ],
      "metadata": {
        "colab": {
          "base_uri": "https://localhost:8080/"
        },
        "id": "6q5598S8wRhI",
        "outputId": "3b7fc5c1-64db-43f0-b47d-7ec5e51e9da1"
      },
      "execution_count": 110,
      "outputs": [
        {
          "output_type": "stream",
          "name": "stdout",
          "text": [
            "ali \n",
            "\n",
            "ali ali \n",
            "\n",
            "ali ali ali \n",
            "\n",
            "ali ali ali ali \n",
            "\n"
          ]
        }
      ]
    },
    {
      "cell_type": "code",
      "source": [
        "n = 4\n",
        "for i in range(0,n):\n",
        "   for j in range(0,i+1) :\n",
        "      print(\"ali \", end = \"\")\n",
        "   print(\"\\r\")"
      ],
      "metadata": {
        "colab": {
          "base_uri": "https://localhost:8080/"
        },
        "id": "NR1LoLINwoHt",
        "outputId": "ae73afba-71a3-41b0-eaa1-f90199191d98"
      },
      "execution_count": 111,
      "outputs": [
        {
          "output_type": "stream",
          "name": "stdout",
          "text": [
            "ali \r\n",
            "ali ali \r\n",
            "ali ali ali \r\n",
            "ali ali ali ali \r\n"
          ]
        }
      ]
    },
    {
      "cell_type": "code",
      "source": [
        "#<\\r> 'carriage return' for next line without space\n",
        "#<\\n> 'next line' or end , gives a line space "
      ],
      "metadata": {
        "id": "FD3Fb-j4w4rA"
      },
      "execution_count": 112,
      "outputs": []
    },
    {
      "cell_type": "code",
      "source": [
        "n = 4\n",
        "for i in range(0,n):\n",
        "   for j in range(0,i+1) :\n",
        "      print(\"ali \", end = \"\")\n",
        "   print(\"\\n\\n\\n\")"
      ],
      "metadata": {
        "colab": {
          "base_uri": "https://localhost:8080/"
        },
        "id": "gYsvNg9Bxuxw",
        "outputId": "a5815671-6963-4efd-9216-0943ed9c22de"
      },
      "execution_count": 113,
      "outputs": [
        {
          "output_type": "stream",
          "name": "stdout",
          "text": [
            "ali \n",
            "\n",
            "\n",
            "\n",
            "ali ali \n",
            "\n",
            "\n",
            "\n",
            "ali ali ali \n",
            "\n",
            "\n",
            "\n",
            "ali ali ali ali \n",
            "\n",
            "\n",
            "\n"
          ]
        }
      ]
    },
    {
      "cell_type": "code",
      "source": [
        "#1:35"
      ],
      "metadata": {
        "id": "1iO3O3FbxxX_"
      },
      "execution_count": null,
      "outputs": []
    }
  ]
}