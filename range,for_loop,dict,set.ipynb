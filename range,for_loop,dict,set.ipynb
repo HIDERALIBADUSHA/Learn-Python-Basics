{
  "nbformat": 4,
  "nbformat_minor": 0,
  "metadata": {
    "colab": {
      "provenance": []
    },
    "kernelspec": {
      "name": "python3",
      "display_name": "Python 3"
    },
    "language_info": {
      "name": "python"
    }
  },
  "cells": [
    {
      "cell_type": "code",
      "execution_count": 2,
      "metadata": {
        "colab": {
          "base_uri": "https://localhost:8080/"
        },
        "id": "Ts4hJfC5yqGL",
        "outputId": "9b94e5be-f9d9-46fd-8d26-3a548312cc9d"
      },
      "outputs": [
        {
          "output_type": "stream",
          "name": "stdout",
          "text": [
            "1\n",
            "2\n",
            "3\n",
            "4\n",
            "5\n",
            "6\n",
            "6\n",
            "7\n",
            "78\n",
            "9\n"
          ]
        }
      ],
      "source": [
        "l = [1,2,3,4,5,6,6,7,78,9,]\n",
        "for i in l :\n",
        "   print(i)"
      ]
    },
    {
      "cell_type": "code",
      "source": [
        "t =(1,2,4,5,6,7,8,9,9,99,0)\n",
        "for i in t :\n",
        "  print(i)"
      ],
      "metadata": {
        "colab": {
          "base_uri": "https://localhost:8080/"
        },
        "id": "BC_aML6SzD_O",
        "outputId": "e4859c4d-4d9c-4a3d-90c4-ace7c3829292"
      },
      "execution_count": 4,
      "outputs": [
        {
          "output_type": "stream",
          "name": "stdout",
          "text": [
            "1\n",
            "2\n",
            "4\n",
            "5\n",
            "6\n",
            "7\n",
            "8\n",
            "9\n",
            "9\n",
            "99\n",
            "0\n"
          ]
        }
      ]
    },
    {
      "cell_type": "code",
      "source": [
        "h = \"hiderali\"\n",
        "for i in h :\n",
        "  print(i)"
      ],
      "metadata": {
        "colab": {
          "base_uri": "https://localhost:8080/"
        },
        "id": "xgW-y7CnzKJk",
        "outputId": "311f6c9c-22e8-46ca-af22-e7ddce0e7e44"
      },
      "execution_count": 6,
      "outputs": [
        {
          "output_type": "stream",
          "name": "stdout",
          "text": [
            "h\n",
            "i\n",
            "d\n",
            "e\n",
            "r\n",
            "a\n",
            "l\n",
            "i\n"
          ]
        }
      ]
    },
    {
      "cell_type": "code",
      "source": [
        "len(t)"
      ],
      "metadata": {
        "colab": {
          "base_uri": "https://localhost:8080/"
        },
        "id": "xbnuWB5azXbZ",
        "outputId": "df3f8e6f-1c5b-4ae7-e98a-8ff3c4af68a4"
      },
      "execution_count": 7,
      "outputs": [
        {
          "output_type": "execute_result",
          "data": {
            "text/plain": [
              "11"
            ]
          },
          "metadata": {},
          "execution_count": 7
        }
      ]
    },
    {
      "cell_type": "code",
      "source": [
        "t"
      ],
      "metadata": {
        "colab": {
          "base_uri": "https://localhost:8080/"
        },
        "id": "rWVXxuO7zd6g",
        "outputId": "d939b28e-7b2c-4f16-a654-80fc7f86d515"
      },
      "execution_count": 8,
      "outputs": [
        {
          "output_type": "execute_result",
          "data": {
            "text/plain": [
              "(1, 2, 4, 5, 6, 7, 8, 9, 9, 99, 0)"
            ]
          },
          "metadata": {},
          "execution_count": 8
        }
      ]
    },
    {
      "cell_type": "code",
      "source": [
        "range(len(t))"
      ],
      "metadata": {
        "colab": {
          "base_uri": "https://localhost:8080/"
        },
        "id": "XG0Tx1aHzh7z",
        "outputId": "cae2510a-00c1-4cdd-e2dd-c900320496ff"
      },
      "execution_count": 9,
      "outputs": [
        {
          "output_type": "execute_result",
          "data": {
            "text/plain": [
              "range(0, 11)"
            ]
          },
          "metadata": {},
          "execution_count": 9
        }
      ]
    },
    {
      "cell_type": "code",
      "source": [
        "for i in range(len(t)) :\n",
        "  print(i,t[i])"
      ],
      "metadata": {
        "colab": {
          "base_uri": "https://localhost:8080/"
        },
        "id": "lHwfZTHdzlT9",
        "outputId": "e3c6f50b-909f-4a5f-ed48-6f9bf735fc13"
      },
      "execution_count": 13,
      "outputs": [
        {
          "output_type": "stream",
          "name": "stdout",
          "text": [
            "0 1\n",
            "1 2\n",
            "2 4\n",
            "3 5\n",
            "4 6\n",
            "5 7\n",
            "6 8\n",
            "7 9\n",
            "8 9\n",
            "9 99\n",
            "10 0\n"
          ]
        }
      ]
    },
    {
      "cell_type": "code",
      "source": [
        "t"
      ],
      "metadata": {
        "colab": {
          "base_uri": "https://localhost:8080/"
        },
        "id": "gh7vA8AZz3yB",
        "outputId": "3abaa251-c724-4985-f895-2190c1555c3b"
      },
      "execution_count": 14,
      "outputs": [
        {
          "output_type": "execute_result",
          "data": {
            "text/plain": [
              "(1, 2, 4, 5, 6, 7, 8, 9, 9, 99, 0)"
            ]
          },
          "metadata": {},
          "execution_count": 14
        }
      ]
    },
    {
      "cell_type": "code",
      "source": [
        "t[::-1]"
      ],
      "metadata": {
        "colab": {
          "base_uri": "https://localhost:8080/"
        },
        "id": "IzF6uaY_0I0h",
        "outputId": "6f239183-09a1-4c6b-bd81-b84855b8ea32"
      },
      "execution_count": 16,
      "outputs": [
        {
          "output_type": "execute_result",
          "data": {
            "text/plain": [
              "(0, 99, 9, 9, 8, 7, 6, 5, 4, 2, 1)"
            ]
          },
          "metadata": {},
          "execution_count": 16
        }
      ]
    },
    {
      "cell_type": "code",
      "source": [
        "for i in reversed(t) :\n",
        "   print(i)"
      ],
      "metadata": {
        "colab": {
          "base_uri": "https://localhost:8080/"
        },
        "id": "bTDgbsPm0Mg7",
        "outputId": "cf00045d-ef9a-4335-b45b-a9f1fc62ac75"
      },
      "execution_count": 23,
      "outputs": [
        {
          "output_type": "stream",
          "name": "stdout",
          "text": [
            "0\n",
            "99\n",
            "9\n",
            "9\n",
            "8\n",
            "7\n",
            "6\n",
            "5\n",
            "4\n",
            "2\n",
            "1\n"
          ]
        }
      ]
    },
    {
      "cell_type": "code",
      "source": [
        "range(len(t),0,-1)"
      ],
      "metadata": {
        "colab": {
          "base_uri": "https://localhost:8080/"
        },
        "id": "tgsdx82-0dd2",
        "outputId": "bc6466ee-1a24-49f5-9407-c6d42f31a72d"
      },
      "execution_count": 24,
      "outputs": [
        {
          "output_type": "execute_result",
          "data": {
            "text/plain": [
              "range(11, 0, -1)"
            ]
          },
          "metadata": {},
          "execution_count": 24
        }
      ]
    },
    {
      "cell_type": "code",
      "source": [
        "list(range(len(t),0,-1)) "
      ],
      "metadata": {
        "colab": {
          "base_uri": "https://localhost:8080/"
        },
        "id": "9fX26jSh1pgd",
        "outputId": "d485d34a-eab5-4ffd-9040-d4151bbb2661"
      },
      "execution_count": 25,
      "outputs": [
        {
          "output_type": "execute_result",
          "data": {
            "text/plain": [
              "[11, 10, 9, 8, 7, 6, 5, 4, 3, 2, 1]"
            ]
          },
          "metadata": {},
          "execution_count": 25
        }
      ]
    },
    {
      "cell_type": "code",
      "source": [
        "for i in range(len(t)-1, 0, -1) :\n",
        "   print(t[i])"
      ],
      "metadata": {
        "colab": {
          "base_uri": "https://localhost:8080/"
        },
        "id": "l6dTn0TF1wdR",
        "outputId": "2b2701f8-a7f8-42cb-f49c-3dd1eafffb43"
      },
      "execution_count": 27,
      "outputs": [
        {
          "output_type": "stream",
          "name": "stdout",
          "text": [
            "0\n",
            "99\n",
            "9\n",
            "9\n",
            "8\n",
            "7\n",
            "6\n",
            "5\n",
            "4\n",
            "2\n"
          ]
        }
      ]
    },
    {
      "cell_type": "code",
      "source": [
        "for i in range(len(t)-1, -1, -1) :\n",
        "   print(t[i])"
      ],
      "metadata": {
        "colab": {
          "base_uri": "https://localhost:8080/"
        },
        "id": "IsbJuw6X2buw",
        "outputId": "c67ae256-863f-496b-a0d5-57d6c84cdb54"
      },
      "execution_count": 28,
      "outputs": [
        {
          "output_type": "stream",
          "name": "stdout",
          "text": [
            "0\n",
            "99\n",
            "9\n",
            "9\n",
            "8\n",
            "7\n",
            "6\n",
            "5\n",
            "4\n",
            "2\n",
            "1\n"
          ]
        }
      ]
    },
    {
      "cell_type": "code",
      "source": [
        "for i in range(len(t)-1, , -1) :\n",
        "   print(t[i])"
      ],
      "metadata": {
        "colab": {
          "base_uri": "https://localhost:8080/",
          "height": 131
        },
        "id": "2HzBnHii3Ojc",
        "outputId": "2992f2f3-98da-4d96-9288-7965eac33df4"
      },
      "execution_count": 29,
      "outputs": [
        {
          "output_type": "error",
          "ename": "SyntaxError",
          "evalue": "ignored",
          "traceback": [
            "\u001b[0;36m  File \u001b[0;32m\"<ipython-input-29-a744f8e34c2d>\"\u001b[0;36m, line \u001b[0;32m1\u001b[0m\n\u001b[0;31m    for i in range(len(t)-1, , -1) :\u001b[0m\n\u001b[0m                             ^\u001b[0m\n\u001b[0;31mSyntaxError\u001b[0m\u001b[0;31m:\u001b[0m invalid syntax\n"
          ]
        }
      ]
    },
    {
      "cell_type": "code",
      "source": [
        "d ={\"a\" : \"ali\" , \"b\" : \"Badu\" , \"c\" : [1,2,34,8,5,6] ,\"d\" : (6,7,8,9,3),  \"e\" : \"hider\"}"
      ],
      "metadata": {
        "id": "yCXMNU7-3aoF"
      },
      "execution_count": 30,
      "outputs": []
    },
    {
      "cell_type": "code",
      "source": [
        "for i in d :\n",
        "   print(i)"
      ],
      "metadata": {
        "colab": {
          "base_uri": "https://localhost:8080/"
        },
        "id": "QebVZaBh4R47",
        "outputId": "345ee7ab-530e-4159-91ec-4b2f4946b45e"
      },
      "execution_count": 31,
      "outputs": [
        {
          "output_type": "stream",
          "name": "stdout",
          "text": [
            "a\n",
            "b\n",
            "c\n",
            "d\n",
            "e\n"
          ]
        }
      ]
    },
    {
      "cell_type": "code",
      "source": [
        "for i in d :\n",
        "   print(d.keys(),d.values())"
      ],
      "metadata": {
        "colab": {
          "base_uri": "https://localhost:8080/"
        },
        "id": "2y15CThn4XMs",
        "outputId": "fc78073f-1dea-4841-c233-86c567903cd2"
      },
      "execution_count": 48,
      "outputs": [
        {
          "output_type": "stream",
          "name": "stdout",
          "text": [
            "dict_keys(['a', 'b', 'c', 'd', 'e']) dict_values(['ali', 'Badu', [1, 2, 34, 8, 5, 6], (6, 7, 8, 9, 3), 'hider'])\n",
            "dict_keys(['a', 'b', 'c', 'd', 'e']) dict_values(['ali', 'Badu', [1, 2, 34, 8, 5, 6], (6, 7, 8, 9, 3), 'hider'])\n",
            "dict_keys(['a', 'b', 'c', 'd', 'e']) dict_values(['ali', 'Badu', [1, 2, 34, 8, 5, 6], (6, 7, 8, 9, 3), 'hider'])\n",
            "dict_keys(['a', 'b', 'c', 'd', 'e']) dict_values(['ali', 'Badu', [1, 2, 34, 8, 5, 6], (6, 7, 8, 9, 3), 'hider'])\n",
            "dict_keys(['a', 'b', 'c', 'd', 'e']) dict_values(['ali', 'Badu', [1, 2, 34, 8, 5, 6], (6, 7, 8, 9, 3), 'hider'])\n"
          ]
        }
      ]
    },
    {
      "cell_type": "code",
      "source": [
        "d.keys()"
      ],
      "metadata": {
        "colab": {
          "base_uri": "https://localhost:8080/"
        },
        "id": "obQP17Xy42ns",
        "outputId": "0441fd60-0633-45a5-8981-3e1ef25fd3c1"
      },
      "execution_count": 43,
      "outputs": [
        {
          "output_type": "execute_result",
          "data": {
            "text/plain": [
              "dict_keys(['a', 'b', 'c', 'd', 'e'])"
            ]
          },
          "metadata": {},
          "execution_count": 43
        }
      ]
    },
    {
      "cell_type": "code",
      "source": [
        "d.values()"
      ],
      "metadata": {
        "colab": {
          "base_uri": "https://localhost:8080/"
        },
        "id": "yFqGO_Oy5N-1",
        "outputId": "2e5ddd1d-710f-4a61-bae6-fc0ad9efd65e"
      },
      "execution_count": 44,
      "outputs": [
        {
          "output_type": "execute_result",
          "data": {
            "text/plain": [
              "dict_values(['ali', 'Badu', [1, 2, 34, 8, 5, 6], (6, 7, 8, 9, 3), 'hider'])"
            ]
          },
          "metadata": {},
          "execution_count": 44
        }
      ]
    },
    {
      "cell_type": "code",
      "source": [
        "d[\"a\"]"
      ],
      "metadata": {
        "colab": {
          "base_uri": "https://localhost:8080/",
          "height": 35
        },
        "id": "oaZynEbm5eEv",
        "outputId": "1cd346ac-2f57-473b-fadb-22d07accdf02"
      },
      "execution_count": 50,
      "outputs": [
        {
          "output_type": "execute_result",
          "data": {
            "text/plain": [
              "'ali'"
            ],
            "application/vnd.google.colaboratory.intrinsic+json": {
              "type": "string"
            }
          },
          "metadata": {},
          "execution_count": 50
        }
      ]
    },
    {
      "cell_type": "code",
      "source": [
        "for i in d :\n",
        "   print(i,d[i])"
      ],
      "metadata": {
        "colab": {
          "base_uri": "https://localhost:8080/"
        },
        "id": "RS-5WhWa59UO",
        "outputId": "6e66ba2f-84cb-4df8-926e-57cf2804674c"
      },
      "execution_count": 51,
      "outputs": [
        {
          "output_type": "stream",
          "name": "stdout",
          "text": [
            "a ali\n",
            "b Badu\n",
            "c [1, 2, 34, 8, 5, 6]\n",
            "d (6, 7, 8, 9, 3)\n",
            "e hider\n"
          ]
        }
      ]
    },
    {
      "cell_type": "code",
      "source": [
        "for i in d.items() :\n",
        "   print(i)"
      ],
      "metadata": {
        "colab": {
          "base_uri": "https://localhost:8080/"
        },
        "id": "nu3TqRkh6H4c",
        "outputId": "a48120fe-d990-43cf-addd-a7ee5ccfae9c"
      },
      "execution_count": 53,
      "outputs": [
        {
          "output_type": "stream",
          "name": "stdout",
          "text": [
            "('a', 'ali')\n",
            "('b', 'Badu')\n",
            "('c', [1, 2, 34, 8, 5, 6])\n",
            "('d', (6, 7, 8, 9, 3))\n",
            "('e', 'hider')\n"
          ]
        }
      ]
    },
    {
      "cell_type": "code",
      "source": [
        "s = {2,33,44,33,5,6,7,7, 88, 88 ,88 ,9 }"
      ],
      "metadata": {
        "id": "kjmZHryu7gbR"
      },
      "execution_count": 54,
      "outputs": []
    },
    {
      "cell_type": "code",
      "source": [
        "s"
      ],
      "metadata": {
        "colab": {
          "base_uri": "https://localhost:8080/"
        },
        "id": "2qlQlJlP77En",
        "outputId": "b7d5c5e0-78b4-405b-fef6-9e9b663b0f4f"
      },
      "execution_count": 55,
      "outputs": [
        {
          "output_type": "execute_result",
          "data": {
            "text/plain": [
              "{2, 5, 6, 7, 9, 33, 44, 88}"
            ]
          },
          "metadata": {},
          "execution_count": 55
        }
      ]
    },
    {
      "cell_type": "code",
      "source": [
        "len(s)"
      ],
      "metadata": {
        "colab": {
          "base_uri": "https://localhost:8080/"
        },
        "id": "WptDkuiP78t4",
        "outputId": "dd9bf454-cb94-4f33-c958-65f892a3ea39"
      },
      "execution_count": 56,
      "outputs": [
        {
          "output_type": "execute_result",
          "data": {
            "text/plain": [
              "8"
            ]
          },
          "metadata": {},
          "execution_count": 56
        }
      ]
    },
    {
      "cell_type": "code",
      "source": [
        "for i in s :\n",
        "   print(i)"
      ],
      "metadata": {
        "colab": {
          "base_uri": "https://localhost:8080/"
        },
        "id": "q0WoCyEP8Aea",
        "outputId": "e27ae31d-d584-44f9-f30a-30e4b48d2cbc"
      },
      "execution_count": 57,
      "outputs": [
        {
          "output_type": "stream",
          "name": "stdout",
          "text": [
            "33\n",
            "2\n",
            "5\n",
            "6\n",
            "7\n",
            "9\n",
            "44\n",
            "88\n"
          ]
        }
      ]
    },
    {
      "cell_type": "code",
      "source": [],
      "metadata": {
        "id": "oaE-B0868Ei1"
      },
      "execution_count": null,
      "outputs": []
    }
  ]
}